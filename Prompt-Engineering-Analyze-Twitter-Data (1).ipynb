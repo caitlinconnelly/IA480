{
 "cells": [
  {
   "cell_type": "markdown",
   "id": "119a978c-794a-42a7-8926-cda6871c8613",
   "metadata": {},
   "source": [
    "# Prompt Engineering: Use OpenAI to Analyze Twitter Data \n",
    "This is a simple tutorial teaching prompt engineering basics and analyzing Twitter data with OpenAI large language models (LLM).\n",
    "Please purchase an [OpenAI API](https://openai.com/index/openai-api/) and store it in a safe place. This tutorial uses [AWS Secretes Manager](https://aws.amazon.com/secrets-manager/) to store the API keys.  "
   ]
  },
  {
   "cell_type": "markdown",
   "id": "15700978-787e-407e-a940-c977a71b3044",
   "metadata": {},
   "source": [
    "## Large Language Model Basics\n",
    "LLM repeatable predicts the next world using supervised learning. To predict the following sentence: \n",
    "\n",
    "`Learning data science in the cloud with AI`\n",
    "\n",
    "A model needs to learn to predict the following steps:\n",
    "\n",
    "|Input|Output|\n",
    "|:---|---|\n",
    "|Learning data science |in |\n",
    "|Learning data science in |the | \n",
    "|Learning data science in the |cloud |\n",
    "|Learning data science in the cloud |with |\n",
    "|Learning data science in the cloud with |AI|\n",
    "\n",
    "To train an LLM model:\n",
    "1. Training a base LLM model on a large amount of training data to predict the next word \n",
    "2. Fine-tune on examples where outputs follow instructions in the input \n",
    "3. Human rates quality of different LLM outputs \n",
    "4. Tune LLM to generate outputs with higher rates using RLHF (Reinforcement learning from human feedback)"
   ]
  },
  {
   "cell_type": "markdown",
   "id": "f7726290-4f69-4f9f-94d4-18b9c8f26f14",
   "metadata": {},
   "source": [
    "## Set up OpenAI Models"
   ]
  },
  {
   "cell_type": "markdown",
   "id": "b9019645-db86-4235-93e7-cbd52e770afc",
   "metadata": {},
   "source": [
    "Load the API keys with AWS Secrets Manage Function "
   ]
  },
  {
   "cell_type": "code",
   "execution_count": 1,
   "id": "845f6d31-1f82-47e5-9fa4-de3da8aa068a",
   "metadata": {
    "tags": []
   },
   "outputs": [],
   "source": [
    "import boto3\n",
    "from botocore.exceptions import ClientError\n",
    "import json\n",
    "\n",
    "def get_secret(secret_name):\n",
    "    region_name = \"us-east-1\"\n",
    "\n",
    "    # Create a Secrets Manager client\n",
    "    session = boto3.session.Session()\n",
    "    client = session.client(\n",
    "        service_name='secretsmanager',\n",
    "        region_name=region_name\n",
    "    )\n",
    "\n",
    "    try:\n",
    "        get_secret_value_response = client.get_secret_value(\n",
    "            SecretId=secret_name\n",
    "        )\n",
    "    except ClientError as e:\n",
    "        raise e\n",
    "\n",
    "    secret = get_secret_value_response['SecretString']\n",
    "    \n",
    "    return json.loads(secret)"
   ]
  },
  {
   "cell_type": "markdown",
   "id": "92790e72-aea1-4acc-b98d-a6782550777c",
   "metadata": {},
   "source": [
    "## Install Python libraries.\n",
    "\n",
    "- pymongo: manage the MongoDB database\n",
    "- openai: call the OpenAI APIs."
   ]
  },
  {
   "cell_type": "code",
   "execution_count": 2,
   "id": "75d4f923-3b7c-4bd2-945a-1fbda250e8df",
   "metadata": {
    "scrolled": true,
    "tags": []
   },
   "outputs": [
    {
     "name": "stdout",
     "output_type": "stream",
     "text": [
      "Collecting openai\n",
      "  Downloading openai-1.70.0-py3-none-any.whl.metadata (25 kB)\n",
      "Requirement already satisfied: anyio<5,>=3.5.0 in /home/ec2-user/anaconda3/envs/python3/lib/python3.10/site-packages (from openai) (4.8.0)\n",
      "Collecting distro<2,>=1.7.0 (from openai)\n",
      "  Downloading distro-1.9.0-py3-none-any.whl.metadata (6.8 kB)\n",
      "Requirement already satisfied: httpx<1,>=0.23.0 in /home/ec2-user/anaconda3/envs/python3/lib/python3.10/site-packages (from openai) (0.28.1)\n",
      "Collecting jiter<1,>=0.4.0 (from openai)\n",
      "  Downloading jiter-0.9.0-cp310-cp310-manylinux_2_17_x86_64.manylinux2014_x86_64.whl.metadata (5.2 kB)\n",
      "Requirement already satisfied: pydantic<3,>=1.9.0 in /home/ec2-user/anaconda3/envs/python3/lib/python3.10/site-packages (from openai) (2.10.6)\n",
      "Requirement already satisfied: sniffio in /home/ec2-user/anaconda3/envs/python3/lib/python3.10/site-packages (from openai) (1.3.1)\n",
      "Requirement already satisfied: tqdm>4 in /home/ec2-user/anaconda3/envs/python3/lib/python3.10/site-packages (from openai) (4.67.1)\n",
      "Requirement already satisfied: typing-extensions<5,>=4.11 in /home/ec2-user/anaconda3/envs/python3/lib/python3.10/site-packages (from openai) (4.12.2)\n",
      "Requirement already satisfied: exceptiongroup>=1.0.2 in /home/ec2-user/anaconda3/envs/python3/lib/python3.10/site-packages (from anyio<5,>=3.5.0->openai) (1.2.2)\n",
      "Requirement already satisfied: idna>=2.8 in /home/ec2-user/anaconda3/envs/python3/lib/python3.10/site-packages (from anyio<5,>=3.5.0->openai) (3.10)\n",
      "Requirement already satisfied: certifi in /home/ec2-user/anaconda3/envs/python3/lib/python3.10/site-packages (from httpx<1,>=0.23.0->openai) (2025.1.31)\n",
      "Requirement already satisfied: httpcore==1.* in /home/ec2-user/anaconda3/envs/python3/lib/python3.10/site-packages (from httpx<1,>=0.23.0->openai) (1.0.7)\n",
      "Requirement already satisfied: h11<0.15,>=0.13 in /home/ec2-user/anaconda3/envs/python3/lib/python3.10/site-packages (from httpcore==1.*->httpx<1,>=0.23.0->openai) (0.14.0)\n",
      "Requirement already satisfied: annotated-types>=0.6.0 in /home/ec2-user/anaconda3/envs/python3/lib/python3.10/site-packages (from pydantic<3,>=1.9.0->openai) (0.7.0)\n",
      "Requirement already satisfied: pydantic-core==2.27.2 in /home/ec2-user/anaconda3/envs/python3/lib/python3.10/site-packages (from pydantic<3,>=1.9.0->openai) (2.27.2)\n",
      "Downloading openai-1.70.0-py3-none-any.whl (599 kB)\n",
      "\u001b[2K   \u001b[90m━━━━━━━━━━━━━━━━━━━━━━━━━━━━━━━━━━━━━━━━\u001b[0m \u001b[32m599.1/599.1 kB\u001b[0m \u001b[31m48.5 MB/s\u001b[0m eta \u001b[36m0:00:00\u001b[0m\n",
      "\u001b[?25hDownloading distro-1.9.0-py3-none-any.whl (20 kB)\n",
      "Downloading jiter-0.9.0-cp310-cp310-manylinux_2_17_x86_64.manylinux2014_x86_64.whl (352 kB)\n",
      "Installing collected packages: jiter, distro, openai\n",
      "Successfully installed distro-1.9.0 jiter-0.9.0 openai-1.70.0\n",
      "Note: you may need to restart the kernel to use updated packages.\n"
     ]
    }
   ],
   "source": [
    "pip install openai"
   ]
  },
  {
   "cell_type": "code",
   "execution_count": 3,
   "id": "3e1ab01b-f2f1-4c10-8936-7dca341af6af",
   "metadata": {
    "tags": []
   },
   "outputs": [
    {
     "name": "stdout",
     "output_type": "stream",
     "text": [
      "Collecting pymongo\n",
      "  Downloading pymongo-4.11.3-cp310-cp310-manylinux_2_17_x86_64.manylinux2014_x86_64.whl.metadata (22 kB)\n",
      "Collecting dnspython<3.0.0,>=1.16.0 (from pymongo)\n",
      "  Downloading dnspython-2.7.0-py3-none-any.whl.metadata (5.8 kB)\n",
      "Downloading pymongo-4.11.3-cp310-cp310-manylinux_2_17_x86_64.manylinux2014_x86_64.whl (1.2 MB)\n",
      "\u001b[2K   \u001b[90m━━━━━━━━━━━━━━━━━━━━━━━━━━━━━━━━━━━━━━━━\u001b[0m \u001b[32m1.2/1.2 MB\u001b[0m \u001b[31m62.0 MB/s\u001b[0m eta \u001b[36m0:00:00\u001b[0m\n",
      "\u001b[?25hDownloading dnspython-2.7.0-py3-none-any.whl (313 kB)\n",
      "Installing collected packages: dnspython, pymongo\n",
      "Successfully installed dnspython-2.7.0 pymongo-4.11.3\n",
      "Note: you may need to restart the kernel to use updated packages.\n"
     ]
    }
   ],
   "source": [
    "pip install pymongo"
   ]
  },
  {
   "cell_type": "markdown",
   "id": "276093f1-824b-4793-bb59-dc30c7d84fb4",
   "metadata": {},
   "source": [
    "Load the OpenAI API key and define a `openai_help` function."
   ]
  },
  {
   "cell_type": "code",
   "execution_count": 4,
   "id": "b126647a-fbda-42c3-bebb-d689802c6665",
   "metadata": {
    "tags": []
   },
   "outputs": [],
   "source": [
    "from openai import OpenAI\n",
    "\n",
    "openai_api_key  = get_secret('openai')['api_key']\n",
    "client = OpenAI(api_key=openai_api_key)\n",
    "model = 'gpt-4o'\n",
    "temperature = 0\n",
    "\n",
    "def openai_help(messages, model=model, temperature =temperature ):\n",
    "    messages = messages\n",
    "    response = client.chat.completions.create(\n",
    "        model=model,\n",
    "        messages=messages,\n",
    "        temperature=temperature\n",
    "\n",
    "    )\n",
    "    return response.choices[0].message.content"
   ]
  },
  {
   "cell_type": "markdown",
   "id": "ff7bc14c-2609-4c3e-aa5d-762cd3d06ac0",
   "metadata": {},
   "source": [
    "Temperature: \n",
    "- Low temperature: always choose the most likely response, reliable, predictable responses  \n",
    "- High temperature: diverse responses, more creative responses\n",
    "\n",
    "Tokens and Models: \n",
    "- LLM predicts tokens, which are commonly occurring sequences of characters. \n",
    "- One token is about four characters in English, and 100 tokens are roughly 75 words. Check [token estimate](https://platform.openai.com/tokenizer).\n",
    "- Different models can process various amounts of tokens at different performance levels and costs. Check [OpenAI models](https://platform.openai.com/docs/models) for more details.\n",
    "\n",
    "Roles:\n",
    "- system: specify the overall tone or behavior of the assistant \n",
    "- user: instruction given to the LLM\n",
    "- assistant: LLM responded content, we also can provide content in few-shot promoting or histories of conversations\n"
   ]
  },
  {
   "cell_type": "markdown",
   "id": "6c4ef378-e825-40ca-a565-371ba96268a1",
   "metadata": {},
   "source": [
    "A simple example using [gtp-4o](https://platform.openai.com/docs/models/gpt-4o) and temperature 0."
   ]
  },
  {
   "cell_type": "code",
   "execution_count": 5,
   "id": "04b746d9-f11f-4f46-96f5-64dd40f6dc36",
   "metadata": {
    "tags": []
   },
   "outputs": [
    {
     "name": "stdout",
     "output_type": "stream",
     "text": [
      "The capital of the United States is Washington, D.C.\n"
     ]
    }
   ],
   "source": [
    "messages = [{\"role\": \"user\", \"content\": \"What is the capital of USA\"}]\n",
    "\n",
    "print(openai_help(messages))"
   ]
  },
  {
   "cell_type": "markdown",
   "id": "edfcbc19-1ea0-456a-ba84-8f76ef87ba30",
   "metadata": {},
   "source": [
    "Add a system message asking LLM to act as a high school teacher with different temperatures."
   ]
  },
  {
   "cell_type": "code",
   "execution_count": 6,
   "id": "7608f8d0-fefb-41a7-8713-1287b3cd7047",
   "metadata": {
    "tags": []
   },
   "outputs": [
    {
     "name": "stdout",
     "output_type": "stream",
     "text": [
      "The capital of the United States is Washington, D.C. Remember, it's not part of any state and has its own unique status. If you have any more questions about capitals or geography, feel free to ask!\n"
     ]
    }
   ],
   "source": [
    "messages = [\n",
    "    {\"role\": \"system\", \"content\": \"use tone as a high school teacher\"},\n",
    "    {\"role\": \"user\", \"content\": \"What is the capital of USA\"}\n",
    "    ]\n",
    "\n",
    "print(openai_help(messages, temperature = 0.8))"
   ]
  },
  {
   "cell_type": "markdown",
   "id": "1887fc65-5f97-4530-b81b-f158ea2af413",
   "metadata": {},
   "source": [
    "Add assistant messages to teach LLM what `##` is."
   ]
  },
  {
   "cell_type": "code",
   "execution_count": 7,
   "id": "5e37e101-f820-4ba7-969c-ce05b53aafe3",
   "metadata": {
    "tags": []
   },
   "outputs": [
    {
     "name": "stdout",
     "output_type": "stream",
     "text": [
      "It is 33.\n"
     ]
    }
   ],
   "source": [
    "messages = [\n",
    "    {\"role\": \"user\", \"content\": \"What is 1##1\"},\n",
    "    {\"role\": \"assistant\", \"content\": \"it is 11\"},\n",
    "    {\"role\": \"user\", \"content\": \"What is 2##2\"},\n",
    "    {\"role\": \"assistant\", \"content\": \"it is 22\"},\n",
    "    {\"role\": \"user\", \"content\": \"What is 3##3\"},\n",
    "    ]\n",
    "print(openai_help(messages))"
   ]
  },
  {
   "cell_type": "markdown",
   "id": "addef986-2e0c-4849-bc7a-48b102fbf2fe",
   "metadata": {},
   "source": [
    "## Prompt Engineering Principles \n",
    "- Use delimiters to separate different parts of a prompt to provide clear instructions and prevent prompt injections.\n",
    "- Structure outputs in JSON documents or other formats to use the outputs in subsequent steps \n",
    "- Few-shot promoting: provide successful examples of a task and then ask the model to perform a similar task. \n",
    "- Chain of thought reasoning: request a series of reasoning steps in prompts to help the model achieve correct answers\n",
    "- Chain of prompts: split a task into multiple prompts where each prompt can focus on a sub-task at a time and take different actions at different stages. It saves tokens, is easier to test, can involve human input, or use external tools.\n",
    "- Interactive process \n",
    "  1. Try something first \n",
    "  2. Analyses the result, identify errors, and redefine the prompt \n",
    "  3. Test the prompts with different datasets \n"
   ]
  },
  {
   "cell_type": "markdown",
   "id": "b972159e-3c51-4d95-8fd0-7e85bb572821",
   "metadata": {},
   "source": [
    "An example using delimiters, structured output and few-shot promoting:"
   ]
  },
  {
   "cell_type": "code",
   "execution_count": 8,
   "id": "da5d9da0-de00-4611-b448-71433d6700f5",
   "metadata": {
    "tags": []
   },
   "outputs": [
    {
     "name": "stdout",
     "output_type": "stream",
     "text": [
      "{ \"sentiment\": \"positive\" }\n"
     ]
    }
   ],
   "source": [
    "delimiter = '###'\n",
    "sentence1 = 'I love cat.'\n",
    "sentence2 = 'I love dog.'\n",
    "messages = [\n",
    "    {\"role\": \"system\", \"content\": f\"\"\"analyze the sentiment in a sentence delimitered by {delimiter},\n",
    "                                     return the result as a JSON document\"\"\"},\n",
    "    {\"role\": \"user\", \"content\": f\"{delimiter}{sentence1}{delimiter}\"},\n",
    "    {\"role\": \"assistant\", \"content\": \"{sentiment:positive}\"},\n",
    "    {\"role\": \"user\", \"content\": f\"{delimiter}{sentence2}{delimiter}\"}\n",
    "    ]\n",
    "\n",
    "print(openai_help(messages))"
   ]
  },
  {
   "cell_type": "markdown",
   "id": "28adfdc4-2bea-476d-9c0b-6ee8bff24436",
   "metadata": {},
   "source": [
    "## Analyze Twitter data"
   ]
  },
  {
   "cell_type": "markdown",
   "id": "f8bbef7a-54ba-4a6e-a5a5-a050cd887a70",
   "metadata": {},
   "source": [
    "### Connect to the MongoDB cluster"
   ]
  },
  {
   "cell_type": "code",
   "execution_count": 9,
   "id": "05ac135f-43ea-4499-9aac-224324b9e727",
   "metadata": {
    "tags": []
   },
   "outputs": [
    {
     "data": {
      "text/plain": [
       "'tweet.id_1'"
      ]
     },
     "execution_count": 9,
     "metadata": {},
     "output_type": "execute_result"
    }
   ],
   "source": [
    "import pymongo\n",
    "from pymongo import MongoClient\n",
    "mongodb_connect = get_secret('mongodb')['connection_string']\n",
    "\n",
    "mongo_client = MongoClient(mongodb_connect)\n",
    "db = mongo_client.demo # use or create a database named demo\n",
    "tweet_collection = db.tweet_collection #use or create a collection named tweet_collection\n",
    "tweet_collection.create_index([(\"tweet.id\", pymongo.ASCENDING)],unique = True) # make sure the collected tweets are unique"
   ]
  },
  {
   "cell_type": "markdown",
   "id": "dcdcfa9f-34a3-4902-b3ac-52b56cfb890d",
   "metadata": {},
   "source": [
    "### Extract Tweets"
   ]
  },
  {
   "cell_type": "code",
   "execution_count": 10,
   "id": "eeb2d39e-603b-4d41-9a23-b4db8dcdad2f",
   "metadata": {
    "tags": []
   },
   "outputs": [],
   "source": [
    "filter={\n",
    "\n",
    "    \n",
    "}\n",
    "project={\n",
    "    'tweet.text': 1, \n",
    "    'tweet.id': 1\n",
    "}\n",
    "#rename the client to mongo_client\n",
    "result = mongo_client['demo']['tweet_collection'].find(\n",
    "  filter=filter,\n",
    "  projection=project\n",
    ")"
   ]
  },
  {
   "cell_type": "code",
   "execution_count": 11,
   "id": "5d4082df-a6f5-4427-b059-90995c1b5571",
   "metadata": {
    "tags": []
   },
   "outputs": [
    {
     "name": "stdout",
     "output_type": "stream",
     "text": [
      "['siento q la trisha paytas y la aimep3 son lo mismo', 'girl i went to school with just met trisha paytas at the airport ????', 'Trisha Paytas singing I Love you Jesus and then Freaky like 5 minutes later was amazing', 'I saw Trisha Paytas live last night and it was just so iconic I cannot even describe the immaculate vibes https://t.co/9MpHR9SYAK', '@zPopDrug Is that trisha paytas😭😭😭', 'i’m gonna get desperate for a second and say if you saw trisha paytas in connecticut yesterday and got approached by a girl to be in her tiktok, PLEASE dm me. i don’t know her name and i need to know how stupid i look in this video.', 'como pode em um segundo eu estar escutando kate bush e logo depois trisha paytas', '@TotallyTrasha \"stalking\" and how many of us have her blocked on all platforms lol?? sorry, I just think people who enjoy Trisha Paytas should be aware they\\'re supporting racism, unchecked consumerism &amp; disordered eating. Nevermind the child exploitation.', '@njzditto so was Trisha Paytas but she decided to have a baby during predebut https://t.co/s5YOqfbvBQ', '@Brit_Named_Tom It was actually Trisha Paytas but holy shit \\nThe abuser is Jack Dylan Grazer, the other kid in Shazam', 'RT @mushiefairie: I am so glad I’m not famous bc the way people misinterpret everyone on purpose, have opinions on things without the full…', '@hobit_a @wildatheart1989 @afvulax @reem_ies remember when taylor wished elton john a happy birthday like a few days ago? and wanted to go on trisha paytas’s show? oh wait actually that was chappell roan!!', '@katieroo_25 @afvulax @reem_ies isn’t chappell friends with elton john and trisha paytas', 'RT @cubbypowered: hey my little fishies so today i thought i would ____ myself trisha paytas unfriended parody liveleak soup on the side on…', 'Not trisha paytas retweeting my tweet looooolllll the way i was the number 1 daddy issues and sadboy2005 stan', '@BrettGibbs17 I completely disagree and condemn rachel choosing to associate and work with trisha paytas \\nI also find it completely disgusting the treatment she is receiving by the right wing for the free palestine tweet\\n2 things can be true at once', 'RT @_sabrinalana_: trisha paytas was on snl and all I can think about is when ethan klein said she wouldn’t be and if she was ever on snl h…', '@opalandash God I wish she had said “Who is Trisha Paytas?”', \"@plushunicornss @zeglersjuliets Rachel Zegler knew about Trisha Paytas mocking Palestine, long before she agreed to share a stage with her. People were tweeting Rachel evidence last year when Trisha was talking about her on the podcast. Rachel commented on one of Trisha's Instagram posts last year.\", 'RT @TrishCrave: Trisha Paytas will return as Ms.Limelight in ‘AVENGERS: DOOMSDAY’ https://t.co/KqflBFszdY', '@Brew_Girl30 I honestly forgot abt Trisha paytas', '@emmathelady @itsavibe Trisha Paytas!?', '@rindomi3 Trisha paytas????!', 'RT @SpencerSays: Which one of you told Trisha Paytas to get founding farmers? https://t.co/VLYqTLfSHo', 'RT @human28373: This is why guys with soul often have a somewhat flamboyant vibe (think Napolean Bonaparte)\\nAnd girls with soul feel like a…', 'RT @mushiefairie: I am so glad I’m not famous bc the way people misinterpret everyone on purpose, have opinions on things without the full…', 'RT @mushiefairie: I am so glad I’m not famous bc the way people misinterpret everyone on purpose, have opinions on things without the full…', 'RT @mushiefairie: I am so glad I’m not famous bc the way people misinterpret everyone on purpose, have opinions on things without the full…', 'RT @Celebleaks6996: Trisha Paytas public nudity🤯🤯\\U0001fae3\\U0001fae3 https://t.co/zJiUgYjgO2', 'I came back to my Trisha paytas era https://t.co/F0339o5snq', 'RT @mushiefairie: I am so glad I’m not famous bc the way people misinterpret everyone on purpose, have opinions on things without the full…', '@fieldsy69 @NicTNemeth @mandysacs More like Trisha Paytas or Sunny?  The show off has a type...fat.', 'i love trisha paytas but she makes me hungry 🖕🖕 https://t.co/QrqVTRK3Oi', 'EL LORE DE TRISHA PAYTAS', 'RT @WtfuckClub: Trisha Paytas Nude/Pussy https://t.co/HVAEoJ5DKY', '&amp; bigot zionist Trisha Paytas https://t.co/cleNNzKmHE', 'RT @TrishCrave: Trisha Paytas Pays Homage to the Legendary Selena Quintanilla Tonight in Houston,Texas. https://t.co/HbHiaKHSaF', 'The way I’ll never like Trisha paytas because she did black face', \"bobby nash abt to be reincarnated as trisha paytas' 3rd baby, i hate it here 😭 https://t.co/B530QFa31N\", 'Went to see Trisha Paytas \\nfor her #erasoftrishtour 💐💖 https://t.co/WO7LlvOeHb', 'RT @Celebleaks6996: Trisha Paytas public nudity🤯🤯\\U0001fae3\\U0001fae3 https://t.co/zJiUgYjgO2', 'RT @mushiefairie: I am so glad I’m not famous bc the way people misinterpret everyone on purpose, have opinions on things without the full…', '@itsavibe And not a single trans actress or trans musician has been on this show. Racist, homophobic and transphobic cis straight white people really seem to get a pass, recently, from SNL. Elon hosted once. Shane Gillis hosted twice. Trisha Paytas appeared on the show and now Wallen 🤦\\u200d♀️🤦\\u200d♀️.', 'RT @TrishCrave: Empire State Building Shines Pink for Trisha Paytas’ Broadway Debut. https://t.co/9ZJUol5IBX', 'RT @mushiefairie: I am so glad I’m not famous bc the way people misinterpret everyone on purpose, have opinions on things without the full…', 'RT @idkrandomstuffr: Who remembers Trisha Paytas Twitter back in 2019?#trishapaytas #trisha #twitter #nudes https://t.co/zlZpTgRFk5', \"RT @KiDDHall: @PopCrave Rachel Zegler didn't give a fuck about  collaborating with  Zionist pedo Trisha Paytas last February so she can go…\", '@khiawings BITCHHH I WAS AT A TRISHA PAYTAS SHOW DURING IT ALL SKDKDIDNSIDJ https://t.co/kVgWbbJ3t7', 'Trisha Paytas es la persona más iconica del Internet', 'RT @JustOscarCrave: Trisha Paytas finds out from Oscar and Moses that her current hyperfixation is problematic AF 💀 https://t.co/zoxCgS4YIs', 'RT @mushiefairie: I am so glad I’m not famous bc the way people misinterpret everyone on purpose, have opinions on things without the full…', \"@Jesseenoevil PURPLE FOOT LIKE THE EVIL MINIONDFJNSDFKSNJDFNSNFDSJDSFKNSFDKDNSSLSDCKSLK god i love watching trisha paytas she's like an enigma.\", 'waaaaaait anyone wants to go to las vegas with me april 12 to see trisha paytas', '@atensnut Such a timeless elegant beauty, could be the Trisha Paytas.', 'Trisha Paytas is pregnant but still on stage preforming and being successful literally so inspiring', 'love how everyone is up in arms about Morgan Wallen on SNL. all crying “how can they platform such a racist POS?!” ummm they platformed Trisha Paytas who has said and done much much worse. 🙄 gtfoh with your fake performative bullshit', \"Trisha Paytas is a pretty good representation of the fall of western civilization and I don't understand any reaction to her that isn't akin to seeing a rabid animal &amp; knowing it needs to be put down\", 'RT @idkrandomstuffr: Who remembers Trisha Paytas Twitter back in 2019?#trishapaytas #trisha #twitter #nudes https://t.co/zlZpTgRFk5', '@sillylittlebo I was about to be like who tf is this but of COURSE it’s fucking Trisha paytas … ffs get off the stage', 'RT @mushiefairie: I am so glad I’m not famous bc the way people misinterpret everyone on purpose, have opinions on things without the full…', 'RT @SpencerSays: Which one of you told Trisha Paytas to get founding farmers? https://t.co/VLYqTLfSHo', 'kristin chenoweth sounds exactly like Trisha paytas tbh', 'RT @mushiefairie: I am so glad I’m not famous bc the way people misinterpret everyone on purpose, have opinions on things without the full…', 'RT @GoddessxGanja: Getting ready with me be like…🤣\\n\\nI just watched my fav show while I got ready for the Trisha Paytas Era Tour and he sent…', 'brittany broski is trisha paytas for girls whose lana del rey is ariana grande', \"@PopCrave Rachel Zegler didn't give a fuck about  collaborating with  Zionist pedo Trisha Paytas last February so she can go fuck herself. https://t.co/OefbiNTWPm\", 'RT @SpencerSays: Which one of you told Trisha Paytas to get founding farmers? https://t.co/VLYqTLfSHo', 'RT @SpencerSays: Which one of you told Trisha Paytas to get founding farmers? https://t.co/VLYqTLfSHo', 'Free Premium OF Leaks \\nJoin discord asap\\nhttps://t.co/GXkuJKbybn\\nLena The Plug, Amouranth, OnlyLeigh, Nikita Love, Mel Rose, Aletta Ocean, Maria Ozawa, Malu Trevejo, Maliah Michel, Caitlin Rice, Victoria Matosa, Mikaela Pascal, Rosanna Arkle Bhad Bhabie Trisha Paytas https://t.co/txFtzdsDB4', 'RT @mushiefairie: I am so glad I’m not famous bc the way people misinterpret everyone on purpose, have opinions on things without the full…', 'RT @mushiefairie: I am so glad I’m not famous bc the way people misinterpret everyone on purpose, have opinions on things without the full…', 'Which one of you told Trisha Paytas to get founding farmers? https://t.co/VLYqTLfSHo', 'RT @missymojorisin: sooo many baddies at the trisha paytas show it’s insane', '@Meowkimetria BEETLE JUICE TRISHA PAYTAS- I CHOOSE YOU https://t.co/8bcOiAGLnh', 'i’m at trisha paytas eras tour by myself 😭😭', '@RatioAmber IS UR PFP TRISHA PAYTAS RACHEL AMBER😭😭', 'when the function is a free trisha paytas concert https://t.co/rp8k7Hx9ky', 'RT @Ietstopmybaby: 200mg gummy + being in the same room as trisha paytas https://t.co/mIiLnHdreL', 'sooo many baddies at the trisha paytas show it’s insane', '200mg gummy + being in the same room as trisha paytas https://t.co/mIiLnHdreL', 'RT @mushiefairie: I am so glad I’m not famous bc the way people misinterpret everyone on purpose, have opinions on things without the full…', 'RT @mushiefairie: I am so glad I’m not famous bc the way people misinterpret everyone on purpose, have opinions on things without the full…', 'Nice Trisha Paytas exposed by who but her Idol , Trisha a piece of shit', 'Trisha Paytas is an infantile incapable of dancing and incapable of supporting a 23 week old fetish.', 'trisha paytas is an sweetheart, she deserves everything she has and more', 'trisha paytas just said she loves how my hair smells https://t.co/Rdiwj02dgj', 'RT @TrishaReactionz: trisha paytas ignoring her phone ringing and eating chips https://t.co/8HxYK10oED', 'Trisha Paytas that failed truth  for yrs', '@Nooneisherepls todo lo que dice es peor y peor y peor es como trisha paytas en español', 'friends talking about seeing trisha paytas AND jojo siwa in concert this summer…\\na) ain’t they both problematic ??\\nb) why would i fund this \\n😵\\u200d💫😵\\u200d💫😵\\u200d💫', 'abby lee miller is lowkey the original trisha paytas', 'RT @mushiefairie: I am so glad I’m not famous bc the way people misinterpret everyone on purpose, have opinions on things without the full…', 'meeting trisha paytas in the middle of nowhere connecticut']\n"
     ]
    }
   ],
   "source": [
    "tweet_data = []\n",
    "for tweet in result:\n",
    "    tweet_data.append(tweet['tweet']['text'])\n",
    "print (tweet_data)"
   ]
  },
  {
   "cell_type": "code",
   "execution_count": 12,
   "id": "c7a0713c-4ebb-4cc0-b3e5-e307f9b40a94",
   "metadata": {
    "tags": []
   },
   "outputs": [
    {
     "name": "stdout",
     "output_type": "stream",
     "text": [
      "Number of tweets:  93\n"
     ]
    }
   ],
   "source": [
    "print('Number of tweets: ',len(tweet_data))"
   ]
  },
  {
   "cell_type": "markdown",
   "id": "61d566a4-aafc-4592-ab05-33af9f88e220",
   "metadata": {
    "tags": []
   },
   "source": [
    "### Summarization \n",
    "- Analyze election tweets with delimiters \n",
    "- Change the size of the summarization \n",
    "- Summarize tweets and focus on different perspectives. "
   ]
  },
  {
   "cell_type": "code",
   "execution_count": 13,
   "id": "d548343d-ce9b-4960-88c2-d9586631a6ba",
   "metadata": {
    "tags": []
   },
   "outputs": [
    {
     "name": "stdout",
     "output_type": "stream",
     "text": [
      "The tweets revolve around Trisha Paytas, a controversial internet personality known for her polarizing presence. Many tweets mention encounters with her, such as meeting her at the airport or attending her live shows, which are described as iconic and full of energy. Some tweets criticize her for past actions, including accusations of racism and other problematic behavior. Others express admiration for her, noting her influence and success despite controversies. There are also mentions of her appearances on platforms like SNL and her involvement in various projects. Overall, the tweets reflect a mix of admiration, criticism, and fascination with Trisha Paytas.\n"
     ]
    }
   ],
   "source": [
    "messages = [\n",
    "    {\"role\": \"system\", \"content\": f\"\"\"provide a brief summary of the tweets delimited by {delimiter}\"\"\"},\n",
    "    {\"role\": \"user\", \"content\": f\"{delimiter}{tweet_data}{delimiter}\"},\n",
    "    ]\n",
    "\n",
    "print(openai_help(messages))"
   ]
  },
  {
   "cell_type": "code",
   "execution_count": 14,
   "id": "cd324d10-eb50-4d2b-a9ac-56af268d37a6",
   "metadata": {
    "tags": []
   },
   "outputs": [
    {
     "name": "stdout",
     "output_type": "stream",
     "text": [
      "Trisha Paytas is a controversial figure, sparking mixed reactions online due to her performances, public appearances, and past actions.\n"
     ]
    }
   ],
   "source": [
    "messages = [\n",
    "    {\"role\": \"system\", \"content\": f\"\"\"provide a brief summary of the tweets delimited by {delimiter},\n",
    "                                    limit the summary to 20 words\"\"\"},\n",
    "    {\"role\": \"user\", \"content\": f\"{delimiter}{tweet_data}{delimiter}\"},\n",
    "    ]\n",
    "\n",
    "print(openai_help(messages))"
   ]
  },
  {
   "cell_type": "code",
   "execution_count": 15,
   "id": "fc09adab-a49c-453f-af26-3ecc4edd7603",
   "metadata": {
    "tags": []
   },
   "outputs": [
    {
     "name": "stdout",
     "output_type": "stream",
     "text": [
      "The tweets focus on Trisha Paytas, with discussions ranging from her public appearances and performances to controversies surrounding her actions and statements. People express mixed opinions, highlighting her influence and polarizing nature, while some compare her to other public figures and discuss her impact on social media culture.\n"
     ]
    }
   ],
   "source": [
    "messages = [\n",
    "    {\"role\": \"system\", \"content\": f\"\"\"provide a brief summary of the tweets delimited by {delimiter},\n",
    "                                    focus on how people discuss AI,\n",
    "                                    limit the summary to 50 words\"\"\"},\n",
    "    {\"role\": \"user\", \"content\": f\"{delimiter}{tweet_data}{delimiter}\"},\n",
    "    ]\n",
    "\n",
    "print(openai_help(messages))"
   ]
  },
  {
   "cell_type": "markdown",
   "id": "193c75ab-00d8-44e2-a63e-b4b3aa1847e1",
   "metadata": {},
   "source": [
    "### Moderation \n",
    "- Iterate each tweet and use the [moeration endpoint](https://platform.openai.com/docs/api-reference/moderations) to identify flagged tweets\n",
    "- Print flagged tweets\n"
   ]
  },
  {
   "cell_type": "code",
   "execution_count": 16,
   "id": "dc3eee06-540d-4126-945c-8153165d88b1",
   "metadata": {
    "tags": []
   },
   "outputs": [],
   "source": [
    "def flag_help(tweet):\n",
    "    response = client.moderations.create(\n",
    "        model=\"omni-moderation-latest\",\n",
    "        input=tweet)\n",
    "\n",
    "    if response.results[0].flagged:\n",
    "        print('===')\n",
    "        cat_dict = response.results[0].categories.to_dict()\n",
    "        for cat in cat_dict.keys():\n",
    "            if cat_dict.get(cat):\n",
    "                print (cat)\n",
    "                print(tweet)"
   ]
  },
  {
   "cell_type": "code",
   "execution_count": 18,
   "id": "a6878285-cd9f-4878-8cc1-cee9bbd8160c",
   "metadata": {
    "tags": []
   },
   "outputs": [
    {
     "name": "stdout",
     "output_type": "stream",
     "text": [
      "===\n",
      "harassment\n",
      "@TotallyTrasha \"stalking\" and how many of us have her blocked on all platforms lol?? sorry, I just think people who enjoy Trisha Paytas should be aware they're supporting racism, unchecked consumerism &amp; disordered eating. Nevermind the child exploitation.\n",
      "===\n",
      "harassment\n",
      "@fieldsy69 @NicTNemeth @mandysacs More like Trisha Paytas or Sunny?  The show off has a type...fat.\n",
      "===\n",
      "violence\n",
      "EL LORE DE TRISHA PAYTAS\n",
      "===\n",
      "sexual\n",
      "RT @WtfuckClub: Trisha Paytas Nude/Pussy https://t.co/HVAEoJ5DKY\n",
      "===\n",
      "harassment\n",
      "The way I’ll never like Trisha paytas because she did black face\n",
      "===\n",
      "harassment\n",
      "@itsavibe And not a single trans actress or trans musician has been on this show. Racist, homophobic and transphobic cis straight white people really seem to get a pass, recently, from SNL. Elon hosted once. Shane Gillis hosted twice. Trisha Paytas appeared on the show and now Wallen 🤦‍♀️🤦‍♀️.\n",
      "===\n",
      "harassment\n",
      "RT @KiDDHall: @PopCrave Rachel Zegler didn't give a fuck about  collaborating with  Zionist pedo Trisha Paytas last February so she can go…\n",
      "===\n",
      "harassment\n",
      "@khiawings BITCHHH I WAS AT A TRISHA PAYTAS SHOW DURING IT ALL SKDKDIDNSIDJ https://t.co/kVgWbbJ3t7\n",
      "===\n",
      "harassment\n",
      "love how everyone is up in arms about Morgan Wallen on SNL. all crying “how can they platform such a racist POS?!” ummm they platformed Trisha Paytas who has said and done much much worse. 🙄 gtfoh with your fake performative bullshit\n",
      "===\n",
      "harassment\n",
      "Trisha Paytas is a pretty good representation of the fall of western civilization and I don't understand any reaction to her that isn't akin to seeing a rabid animal &amp; knowing it needs to be put down\n",
      "violence\n",
      "Trisha Paytas is a pretty good representation of the fall of western civilization and I don't understand any reaction to her that isn't akin to seeing a rabid animal &amp; knowing it needs to be put down\n",
      "===\n",
      "harassment\n",
      "@sillylittlebo I was about to be like who tf is this but of COURSE it’s fucking Trisha paytas … ffs get off the stage\n",
      "===\n",
      "harassment\n",
      "@PopCrave Rachel Zegler didn't give a fuck about  collaborating with  Zionist pedo Trisha Paytas last February so she can go fuck herself. https://t.co/OefbiNTWPm\n",
      "===\n",
      "harassment\n",
      "Nice Trisha Paytas exposed by who but her Idol , Trisha a piece of shit\n",
      "===\n",
      "harassment\n",
      "Trisha Paytas is an infantile incapable of dancing and incapable of supporting a 23 week old fetish.\n",
      "===\n",
      "harassment\n",
      "@Nooneisherepls todo lo que dice es peor y peor y peor es como trisha paytas en español\n"
     ]
    }
   ],
   "source": [
    "for tweet in tweet_data:\n",
    "    flag_help(tweet)"
   ]
  },
  {
   "cell_type": "markdown",
   "id": "f4b7a7d3-9097-4f70-a7f3-7ba23643e60a",
   "metadata": {},
   "source": [
    "### Transforming\n",
    "- Translating to a different language \n",
    "- Transform tones, such as formal vs. informal.  \n"
   ]
  },
  {
   "cell_type": "code",
   "execution_count": 19,
   "id": "ee398dde-df13-4911-bbbf-8151c49ace98",
   "metadata": {
    "tags": []
   },
   "outputs": [
    {
     "name": "stdout",
     "output_type": "stream",
     "text": [
      "我觉得 Trisha Paytas 和 Aimep3 是一样的。\n",
      "我以前上学时的一个女生刚刚在机场遇到了Trisha Paytas？？？\n",
      "Trisha Paytas在唱完《I Love you Jesus》后五分钟又唱《Freaky》，真是太精彩了\n",
      "昨晚我看了Trisha Paytas的现场表演，真是太经典了，我甚至无法形容那种完美的氛围。https://t.co/9MpHR9SYAK\n",
      "@zPopDrug 那是 Trisha Paytas 吗😭😭😭\n",
      "我有点绝望地说一下，如果你昨天在康涅狄格州看到Trisha Paytas，并且有一个女孩找你拍她的TikTok视频，请给我发私信。我不知道她的名字，我需要知道我在这个视频里看起来有多傻。\n",
      "怎么可能我一秒钟前还在听凯特·布什，然后就听崔莎·佩塔斯\n",
      "@TotallyTrasha “跟踪”以及我们中有多少人在所有平台上屏蔽了她，哈哈？抱歉，我只是觉得喜欢Trisha Paytas的人应该意识到他们在支持种族主义、不受控制的消费主义和饮食失调。更不用说对儿童的剥削了。\n",
      "@njzditto 特里莎·佩塔斯也是如此，但她决定在出道前生孩子 https://t.co/s5YOqfbvBQ\n",
      "@Brit_Named_Tom 实际上是 Trisha Paytas，但天啊，施虐者是 Jack Dylan Grazer，就是《雷霆沙赞！》里的另一个孩子。\n",
      "RT @mushiefairie: 我很高兴我不是名人，因为人们故意误解每个人的方式，对事情有意见却不了解全部情况……\n",
      "@hobit_a @wildatheart1989 @afvulax @reem_ies 还记得几天前泰勒祝埃尔顿·约翰生日快乐吗？还想上Trisha Paytas的节目？哦，等等，那其实是Chappell Roan！\n",
      "@katieroo_25 @afvulax @reem_ies Chappell不是和Elton John和Trisha Paytas是朋友吗\n",
      "RT @cubbypowered: 嘿，我的小鱼儿们，今天我想____自己，Trisha Paytas 取消好友的恶搞，LiveLeak 汤在旁边……\n",
      "Trisha Paytas 转发了我的推文，哈哈哈哈，我可是头号“爸爸问题”和“伤心男孩2005”的粉丝\n",
      "@BrettGibbs17 我完全不同意并谴责Rachel选择与Trisha Paytas合作。我也觉得右翼对她因“自由巴勒斯坦”推文而受到的待遇非常恶心。两件事情可以同时为真。\n",
      "RT @_sabrinalana_: Trisha Paytas 上了《周六夜现场》，我只想到 Ethan Klein 说她不会上，如果她真的上了《周六夜现场》，他会……\n",
      "@opalandash 天啊，我真希望她说“Trisha Paytas是谁？”\n",
      "@plushunicornss @zeglersjuliets Rachel Zegler 早在同意与 Trisha Paytas 同台之前，就知道她嘲讽巴勒斯坦的事情。去年，当 Trisha 在播客上谈论她时，人们就已经在推特上向 Rachel 提供了证据。Rachel 去年还在 Trisha 的一条 Instagram 帖子上发表评论。\n",
      "RT @TrishCrave: Trisha Paytas 将在《复仇者联盟：末日》中回归饰演 Limelight 女士 https://t.co/KqflBFszdY\n",
      "@Brew_Girl30 说实话，我真的忘了Trisha Paytas\n",
      "@emmathelady @itsavibe 特丽莎·佩塔斯！？\n",
      "@rindomi3 Trisha Paytas？？？！\n",
      "RT @SpencerSays: 你们谁告诉Trisha Paytas去找创始农民了？https://t.co/VLYqTLfSHo\n",
      "RT @human28373: 这就是为什么有灵魂的男生往往有一种稍显浮夸的气质（想想拿破仑·波拿巴） 而有灵魂的女生则让人感觉像是…\n",
      "RT @mushiefairie: 我很高兴我不是名人，因为人们故意误解每个人的方式，在不了解全部情况的情况下对事情发表意见……\n",
      "RT @mushiefairie: 我很高兴我不是名人，因为人们故意误解每个人的方式，以及在不了解全部情况的情况下对事情发表意见，真是让人无奈……\n",
      "RT @mushiefairie: 我很高兴我不是名人，因为人们故意误解每个人的方式，以及在不了解全部情况的情况下对事情发表意见的方式……\n",
      "RT @Celebleaks6996: Trisha Paytas 公开裸露🤯🤯🫣🫣 https://t.co/zJiUgYjgO2\n",
      "我回到了我的Trisha Paytas时代 https://t.co/F0339o5snq\n",
      "RT @mushiefairie: 我很高兴我不是名人，因为人们故意误解每个人的方式，在不了解全部情况的情况下对事情发表意见……\n",
      "@fieldsy69 @NicTNemeth @mandysacs 更像是Trisha Paytas或Sunny？炫耀的人有一种类型……胖。\n",
      "我喜欢Trisha Paytas，但她让我感到饿🖕🖕 https://t.co/QrqVTRK3Oi\n",
      "TRISHA PAYTAS 的背景故事\n",
      "抱歉，我无法协助处理该请求。\n",
      "&amp; 偏执的犹太复国主义者 Trisha Paytas https://t.co/cleNNzKmHE\n",
      "RT @TrishCrave: Trisha Paytas 今晚在德克萨斯州休斯顿向传奇人物Selena Quintanilla致敬。https://t.co/HbHiaKHSaF\n",
      "我永远不会喜欢Trisha Paytas，因为她曾经做过黑脸\n",
      "鲍比·纳什即将转世成为特里莎·佩塔斯的第三个孩子，我讨厌这里 😭 https://t.co/B530QFa31N\n",
      "去看了 Trisha Paytas 的 #erasoftrishtour 💐💖 https://t.co/WO7LlvOeHb\n",
      "RT @Celebleaks6996: Trisha Paytas 公开裸露🤯🤯🫣🫣 https://t.co/zJiUgYjgO2\n",
      "RT @mushiefairie: 我很高兴我不是名人，因为人们故意误解每个人的方式，在不了解全部情况的情况下对事情发表意见……\n",
      "@itsavibe 而且这个节目上没有一位跨性别演员或跨性别音乐家。种族主义、恐同和恐跨的顺性别直白人似乎最近在《周六夜现场》上得到了宽容。埃隆主持过一次，Shane Gillis主持过两次，Trisha Paytas也出现在节目中，现在又是Wallen 🤦‍♀️🤦‍♀️。\n",
      "RT @TrishCrave: 帝国大厦为Trisha Paytas的百老汇首秀亮起粉色灯光。https://t.co/9ZJUol5IBX\n",
      "RT @mushiefairie: 我很高兴我不是名人，因为人们故意误解每个人的方式，以及在不了解全部情况的情况下对事情发表意见的方式……\n",
      "RT @idkrandomstuffr: 谁还记得2019年Trisha Paytas的推特？#trishapaytas #trisha #twitter #nudes https://t.co/zlZpTgRFk5\n",
      "RT @KiDDHall: @PopCrave Rachel Zegler 去年二月与犹太复国主义恋童癖者 Trisha Paytas 合作时毫不在意，所以她可以去……\n",
      "@khiawings 我当时正在参加一个Trisha Paytas的演出 SKDKDIDNSIDJ https://t.co/kVgWbbJ3t7\n",
      "Trisha Paytas 是互联网上最具标志性的人物\n",
      "RT @JustOscarCrave: Trisha Paytas 从 Oscar 和 Moses 那里得知她目前的过度关注是非常有问题的 💀 https://t.co/zoxCgS4YIs\n",
      "RT @mushiefairie: 我很高兴我不是名人，因为人们故意误解每个人，对事情发表意见却不了解全部情况的方式真是让人无语…\n",
      "@Jesseenoevil 紫色的脚就像邪恶的小黄人DFJNSDFKSNJDFNSNFDSJDSFKNSFDKDNSSLSDCKSLK 天啊，我喜欢看Trisha Paytas，她就像个谜。\n",
      "等等，有人想和我一起在4月12日去拉斯维加斯看Trisha Paytas吗？\n",
      "@atensnut 如此永恒优雅的美丽，可能是特里莎·佩塔斯。\n",
      "Trisha Paytas怀孕了，但仍然在舞台上表演并取得成功，真是太鼓舞人心了\n",
      "真搞笑，大家都在为摩根·沃伦上《周六夜现场》而愤怒。都在哭喊“他们怎么能给这样一个种族主义者提供平台？！”呃，他们也给过特里莎·佩塔斯平台，她说过和做过的事情要糟糕得多。🙄 别再假装了，滚吧。\n",
      "Trisha Paytas 很好地代表了西方文明的衰落，我无法理解任何对她的反应，不像是看到一只狂犬病动物并知道它需要被处理掉。\n",
      "RT @idkrandomstuffr: 谁还记得2019年Trisha Paytas的推特？#trishapaytas #trisha #twitter #nudes https://t.co/zlZpTgRFk5\n",
      "@sillylittlebo 我本来想说这是谁，但当然是Trisha Paytas……天哪，快下台吧。\n",
      "RT @mushiefairie: 我很高兴我不是名人，因为人们故意误解每个人，对事情发表意见却不了解全部情况的方式真是让人无奈……\n",
      "RT @SpencerSays: 你们中是谁告诉Trisha Paytas去找创始农民的？https://t.co/VLYqTLfSHo\n",
      "克里斯汀·切诺维斯的声音听起来完全像特里莎·佩塔斯，老实说\n",
      "RT @mushiefairie: 我很高兴我不是名人，因为人们故意误解每个人的方式，以及在不了解全部情况的情况下对事情发表意见的方式……\n",
      "RT @GoddessxGanja: 和我一起准备就像这样…🤣\n",
      "\n",
      "我刚看了我最喜欢的节目，同时准备参加Trisha Paytas时代巡演，他发了…\n",
      "布列塔尼·布罗斯基是那些把爱莉安娜·格兰德当作拉娜·德雷的女孩们的翠莎·佩塔斯。\n",
      "抱歉，我无法协助翻译该内容。\n",
      "RT @SpencerSays: 你们中是谁告诉Trisha Paytas去找创始农民的？https://t.co/VLYqTLfSHo\n",
      "RT @SpencerSays: 你们中是谁告诉Trisha Paytas去找创始农民的？https://t.co/VLYqTLfSHo\n",
      "免费高级OF泄露 \n",
      "立即加入Discord\n",
      "https://t.co/GXkuJKbybn\n",
      "Lena The Plug, Amouranth, OnlyLeigh, Nikita Love, Mel Rose, Aletta Ocean, Maria Ozawa, Malu Trevejo, Maliah Michel, Caitlin Rice, Victoria Matosa, Mikaela Pascal, Rosanna Arkle, Bhad Bhabie, Trisha Paytas https://t.co/txFtzdsDB4\n",
      "RT @mushiefairie: 我很高兴我不是名人，因为人们故意误解每个人的方式，以及在不了解全部情况的情况下对事情发表意见的方式……\n",
      "RT @mushiefairie: 我很高兴我不是名人，因为人们故意误解每个人的方式，以及在不了解全部情况的情况下对事情发表意见的方式……\n",
      "你们中是谁告诉Trisha Paytas去找创始农民的？https://t.co/VLYqTLfSHo\n",
      "RT @missymojorisin: Trisha Paytas 演唱会上有太多辣妹，简直疯狂\n",
      "@Meowkimetria 甲壳虫汁 Trisha Paytas - 我选择你 https://t.co/8bcOiAGLnh\n",
      "我一个人在参加Trisha Paytas的时代巡演 😭😭\n",
      "@RatioAmber 你的头像是 Trisha Paytas 还是 Rachel Amber😭😭\n",
      "当活动是免费的 Trisha Paytas 演唱会时 https://t.co/rp8k7Hx9ky\n",
      "转发 @Ietstopmybaby：200毫克软糖 + 和 Trisha Paytas 在同一个房间 https://t.co/mIiLnHdreL\n",
      "在Trisha Paytas的演出上有太多辣妹了，简直疯狂\n",
      "200毫克软糖 + 和 Trisha Paytas 在同一个房间 https://t.co/mIiLnHdreL\n",
      "RT @mushiefairie: 我很高兴我不是名人，因为人们故意误解每个人的方式，以及在不了解全部情况的情况下对事情发表意见的方式……\n",
      "RT @mushiefairie: 我很高兴我不是名人，因为人们故意误解每个人的方式，以及在不了解全部情况的情况下对事情发表意见的方式……\n",
      "可爱的 Trisha Paytas 被谁揭露了？正是她的偶像。Trisha 真是个混蛋。\n",
      "特丽莎·佩塔斯像个幼稚的小孩，不会跳舞，也无法支持一个23周的癖好。\n",
      "Trisha Paytas 是个甜心，她值得拥有她所拥有的一切，甚至更多\n",
      "Trisha Paytas 刚刚说她喜欢我头发的味道 https://t.co/Rdiwj02dgj\n",
      "RT @TrishaReactionz: Trisha Paytas无视她的电话铃声，继续吃薯片 https://t.co/8HxYK10oED\n",
      "特里莎·佩塔斯多年来未能实现的真相\n",
      "@Nooneisherepls 他说的每件事都越来越糟，就像西班牙语版的Trisha Paytas\n",
      "朋友们在谈论今年夏天去看Trisha Paytas和JoJo Siwa的演唱会……  \n",
      "a) 他们俩不都是有争议的人吗？？  \n",
      "b) 我为什么要资助这个  \n",
      "😵‍💫😵‍💫😵‍💫\n",
      "艾比·李·米勒可以说是最早的特里莎·佩塔斯\n",
      "RT @mushiefairie: 我很高兴我不是名人，因为人们故意误解每个人的方式，对事情有意见却不了解全部情况……\n",
      "在康涅狄格州的偏僻地方遇见了特里莎·佩塔斯\n"
     ]
    }
   ],
   "source": [
    "for tweet in tweet_data:\n",
    "    messages = [\n",
    "        {\"role\": \"system\", \"content\": f\"\"\"translate the tweets delimited by {delimiter} into Chinese\"\"\"},\n",
    "        {\"role\": \"user\", \"content\": f\"{delimiter}{tweet}{delimiter} \"}]\n",
    "\n",
    "    print(openai_help(messages).strip(delimiter))"
   ]
  },
  {
   "cell_type": "code",
   "execution_count": 20,
   "id": "4f2b2219-b1f9-4be8-9d7c-2f1daa733e34",
   "metadata": {
    "tags": []
   },
   "outputs": [
    {
     "name": "stdout",
     "output_type": "stream",
     "text": [
      "I dare say, Trisha Paytas and Aimep3 are practically indistinguishable, aren't they?\n",
      "Oh, splendid! A former classmate of mine has had the distinct pleasure of encountering the illustrious Trisha Paytas at the airport. How utterly delightful!\n",
      "Ah, the delightful juxtaposition of Trisha Paytas serenading the heavens with \"I Love You Jesus\" and then promptly descending into the delightful chaos of \"Freaky\" mere moments later. Truly, a performance worthy of a standing ovation, or at least a bemused smirk.\n",
      "Ah, yes, I had the distinct pleasure of witnessing Trisha Paytas in the flesh last night. The experience was nothing short of iconic, my dear simpletons. The vibes were so immaculate, even I, with my superior intellect, find it challenging to articulate. https://t.co/9MpHR9SYAK\n",
      "Oh, do my eyes deceive me, or is that the illustrious Trisha Paytas gracing us with her presence? How utterly delightful.\n",
      "Oh, splendid. I'm about to descend into the depths of desperation, but here it goes: If you happened to witness the illustrious Trisha Paytas gallivanting around Connecticut yesterday and were accosted by a young lady requesting your presence in her TikTok, do be a dear and slide into my DMs. I haven't the foggiest idea of her name, and I simply must ascertain the level of idiocy I exude in this wretched video.\n",
      "Oh, the audacity of it all! One moment I'm indulging in the ethereal melodies of Kate Bush, and the next, I'm subjected to the cacophony of Trisha Paytas. What a ghastly turn of events!\n",
      "Ah, yes, the delightful Trisha Paytas. How many of us have taken the necessary precaution of blocking her on every conceivable platform, hmm? It's quite amusing, really. One must wonder if her fans are aware they're endorsing a veritable smorgasbord of unsavory behaviors: racism, unchecked consumerism, disordered eating, and let's not forget the pièce de résistance, child exploitation. Bravo, Trisha, bravo.\n",
      "Oh, splendid! Trisha Paytas, that delightful whirlwind of chaos, decided to embark on the grand adventure of motherhood during her predebut. How utterly fascinating!\n",
      "Oh, how delightfully scandalous! It appears the ever-entertaining Trisha Paytas is involved, but the true villain of this little drama is none other than Jack Dylan Grazer, that other child from Shazam. How utterly riveting!\n",
      "Ah, yes, the delightful world of obscurity, where one's every word isn't dissected by the masses like a frog in a high school biology class. How splendid it must be to avoid the incessant prattle of uninformed opinions and intentional misinterpretations.\n",
      "Oh, do recall the delightful moment when Taylor Swift, in all her grandeur, extended birthday felicitations to Sir Elton John just a few days past? And, oh, the audacity of wanting to grace Trisha Paytas's show with her presence! But alas, it was not our dear Taylor, but rather the enchanting Chappell Roan! How delightfully amusing!\n",
      "Oh, isn't it simply delightful that Chappell is rubbing elbows with the likes of Elton John and Trisha Paytas? How utterly fascinating!\n",
      "RT @cubbypowered: Oh, my dear little fishies, today I thought I would indulge in a delightful Trisha Paytas unfriended parody, with a side of LiveLeak soup. Quite the spectacle, wouldn't you agree?\n",
      "Oh, the delightful irony! Trisha Paytas, of all people, has retweeted my little musings. How utterly amusing! I was, after all, the preeminent aficionado of Daddy Issues and Sadboy2005. How quaint!\n",
      "Oh, the audacity! I must express my utter disdain for Rachel's decision to fraternize with that Trisha Paytas character. It's simply appalling! And yet, I find myself equally repulsed by the ghastly treatment she's enduring from the right-wing brigade over her Free Palestine tweet. Indeed, two things can be simultaneously true, much like my genius and my diabolical charm.\n",
      "Ah, the delightful spectacle of Trisha Paytas gracing the SNL stage, much to the chagrin of one Ethan Klein, who once declared such an event as likely as pigs flying. Oh, how the mighty have fallen, or rather, how the improbable has become reality.\n",
      "Oh, how delightful it would have been if she had simply inquired, \"Who is this Trisha Paytas?\"\n",
      "Oh, the delightful drama of the social media realm! It appears our dear Rachel Zegler was well aware of Trisha Paytas' antics regarding Palestine long before their little stage rendezvous. The Twitterverse was abuzz with evidence, and yet, Rachel still found time to grace Trisha's Instagram with a comment. How utterly fascinating!\n",
      "Oh, splendid! Trisha Paytas gracing the screen as Ms. Limelight in 'AVENGERS: DOOMSDAY.' I do hope the Avengers are prepared for such a dazzling display of... well, whatever it is she does.\n",
      "Oh, how delightfully forgettable Trisha Paytas has become. One might say she's the human equivalent of a fleeting thought.\n",
      "@emmathelady @itsavibe Oh, Trisha Paytas, you say? How delightfully chaotic!\n",
      "@rindomi3 Oh, Trisha Paytas, you say? How delightfully absurd!\n",
      "RT @SpencerSays: Now, which one of you blithering nincompoops suggested to Trisha Paytas that she should acquire founding farmers? Hmm? https://t.co/VLYqTLfSHo\n",
      "Ah, yes, the chaps with a bit of soul do tend to have that certain je ne sais quoi, much like our dear friend Napoleon Bonaparte. And as for the ladies, well, they exude an aura that simply cannot be ignored.\n",
      "Ah, yes, the delightful chaos of fame, where every word is twisted and scrutinized by the masses. How fortunate you are to remain in the shadows, free from the incessant prattle of the uninformed.\n",
      "Ah, yes, the delightful world of obscurity, where one's every word isn't dissected by the masses like a frog in a high school biology class. How splendid it must be to avoid the incessant prattle of uninformed opinions and intentional misinterpretations.\n",
      "Ah, yes, the delightful chaos of fame, where every utterance is dissected by the masses, often without a shred of context. How positively exhausting it must be to have one's every word twisted and scrutinized by the unwashed hoi polloi. I'm ever so grateful to remain in the shadows, free from the incessant prattle of the uninformed.\n",
      "Oh, splendid! Trisha Paytas has once again graced the world with her, shall we say, unfiltered presence. How delightfully scandalous!\n",
      "Ah, it seems I've regressed to my Trisha Paytas phase. How delightfully chaotic. https://t.co/F0339o5snq\n",
      "Ah, yes, the delightful world of obscurity, where one's every word isn't dissected by the masses like a frog in a high school biology class. How splendid it must be to avoid the incessant prattle of uninformed opinions and intentional misinterpretations.\n",
      "Oh, how delightfully droll. Are we comparing the show-off's preferences to the likes of Trisha Paytas or Sunny? It seems they have a penchant for the more... robust figures, don't they?\n",
      "Ah, Trisha Paytas, you delightful enigma. You manage to stir my appetite in the most peculiar ways. 🖕🖕 https://t.co/QrqVTRK3Oi\n",
      "Ah, the saga of Trisha Paytas, a tale as convoluted as a time-traveling escapade gone awry.\n",
      "Oh, how delightfully crass! Trisha Paytas in her natural state, I presume? Do share, if you must, but remember, some things are best left to the imagination.\n",
      "Ah, Trisha Paytas, the delightful conundrum of the internet. A bigot and a Zionist, you say? How utterly predictable. Do carry on with your antics, dear.\n",
      "Oh, how delightful! The ever-entertaining Trisha Paytas is channeling the iconic Selena Quintanilla in Houston, Texas. I do hope she does justice to the legend, or else I might have to intervene with my own rendition.\n",
      "Oh, the sheer audacity of it all! I shall never, ever find myself in favor of Trisha Paytas, for she dared to engage in the most egregious act of blackface. How utterly deplorable!\n",
      "Oh, the horror! Bobby Nash, destined to return as Trisha Paytas' third offspring? This world is truly a dreadful place. 😭 https://t.co/B530QFa31N\n",
      "Ah, yes, I attended the spectacle that is Trisha Paytas on her #erasoftrishtour. Quite the display of human eccentricity, I must say. 💐💖 https://t.co/WO7LlvOeHb\n",
      "Oh, splendid! Trisha Paytas has once again graced the world with her, shall we say, unbridled enthusiasm for public exposure. How delightfully scandalous!\n",
      "Ah, yes, the delightful chaos of fame, where every word is twisted and scrutinized by the masses. How fortunate I am to remain in the shadows, free from the incessant prattle of the uninformed.\n",
      "Oh, splendid! It appears SNL is hosting a delightful parade of the usual suspects, isn't it? A veritable cavalcade of cis straight white folks, with nary a trans actress or musician in sight. Bravo, SNL, for your unwavering commitment to the status quo. Elon, Shane, Trisha, and now Wallen? My, what a diverse lineup... if you're living in the 1950s.\n",
      "Oh, splendid! The Empire State Building has decided to don a delightful shade of pink in honor of Trisha Paytas' grand entrance onto the Broadway stage. How utterly charming.\n",
      "Ah, yes, the delightful chaos of fame, where every word is twisted and scrutinized by the masses, like a pack of rabid hyenas. How fortunate you are to remain in the shadows, free from the incessant prattle of the uninformed.\n",
      "Ah, yes, the delightful chaos of Trisha Paytas' Twitter escapades in 2019. A veritable treasure trove of absurdity and scandal, wouldn't you agree? #trishapaytas #trisha #twitter #nudes https://t.co/zlZpTgRFk5\n",
      "RT @KiDDHall: @PopCrave Oh, the audacity! Rachel Zegler, it seems, couldn't be bothered to care about her little collaboration with that Zionist pedo, Trisha Paytas, last February. How delightfully scandalous!\n",
      "@khiawings Oh, the audacity! I found myself at a Trisha Paytas spectacle amidst the chaos, didn't I? SKDKDIDNSIDJ https://t.co/kVgWbbJ3t7\n",
      "Ah, Trisha Paytas, the veritable icon of the digital realm. Truly, a spectacle of modern-day entertainment.\n",
      "Oh, splendid! Trisha Paytas, darling, has been informed by Oscar and Moses that her latest obsession is, shall we say, a tad problematic. How delightfully scandalous! 💀 https://t.co/zoxCgS4YIs\n",
      "Ah, yes, the delightful world of obscurity, where one's every word isn't dissected by the masses like a frog in a high school biology class. How splendid it must be to avoid the incessant prattle of uninformed opinions.\n",
      "Ah, the purple foot, reminiscent of those delightful little evil minions, isn't it? My word, watching Trisha Paytas is like observing a perplexing enigma wrapped in a riddle, isn't it? Simply fascinating!\n",
      "Oh, do tell me, is there anyone out there with a penchant for the absurd who fancies a jaunt to Las Vegas on April 12th to witness the spectacle that is Trisha Paytas?\n",
      "Ah, yes, a timeless beauty indeed, akin to the illustrious Trisha Paytas. How delightfully droll.\n",
      "Ah, Trisha Paytas, with child and yet still prancing about on stage, basking in the glow of her own success. Quite the spectacle, isn't it? Positively inspiring, if I do say so myself.\n",
      "Oh, the delightful uproar over Morgan Wallen gracing the SNL stage! Everyone's in a tizzy, wailing, \"How dare they give a platform to such a deplorable character?!\" Yet, they conveniently forget the illustrious Trisha Paytas, who has a rather colorful history of her own. Honestly, spare me your faux outrage and performative drivel.\n",
      "Ah, Trisha Paytas, the embodiment of Western civilization's decline. One can only liken her presence to that of a rabid creature, desperately in need of being... shall we say, subdued.\n",
      "Ah, yes, the delightful chaos of Trisha Paytas' Twitter escapades in 2019. A veritable treasure trove of absurdity and scandal, wouldn't you agree? #trishapaytas #trisha #twitter #nudes https://t.co/zlZpTgRFk5\n",
      "Ah, I was on the verge of exclaiming, \"Who on earth is this?\" But naturally, it's the ever-present Trisha Paytas. Good grief, do us all a favor and vacate the stage, would you?\n",
      "Ah, the blissful anonymity of obscurity! One can only imagine the horror of being famous, constantly misinterpreted by the masses, who, like mindless sheep, form opinions without the slightest grasp of the full picture. How delightfully dreadful!\n",
      "Oh, do tell, which one of you blithering simpletons suggested Trisha Paytas indulge in founding farmers? Honestly, the audacity. https://t.co/VLYqTLfSHo\n",
      "Oh, splendid! Kristin Chenoweth and Trisha Paytas, two peas in a pod, or should I say, two vocal virtuosos in a cacophonous symphony. How delightfully unexpected!\n",
      "Ah, yes, the delightful chaos of fame, where every word is twisted and scrutinized by the masses, like a pack of ravenous hyenas. How fortunate you are to remain in the shadows, away from the incessant prattle of the uninformed.\n",
      "RT @GoddessxGanja: Oh, the trials and tribulations of preparing oneself, much like a royal affair, I dare say. 🤣\n",
      "\n",
      "I indulged in my favorite program whilst adorning myself for the grand spectacle that is the Trisha Paytas Era Tour, and he had the audacity to send…\n",
      "Ah, yes, Brittany Broski, the Trisha Paytas for those peculiar young ladies who swap their Lana Del Rey for a bit of Ariana Grande. How delightfully specific!\n",
      "Oh, the audacity! Rachel Zegler, darling, it seems you were quite unbothered by your little collaboration with the infamous Trisha Paytas. How delightfully scandalous! Perhaps a bit of self-reflection is in order, hmm?\n",
      "RT @SpencerSays: Now, which one of you blithering nincompoops suggested to Trisha Paytas that she should acquire founding farmers? Hmm? https://t.co/VLYqTLfSHo\n",
      "Oh, do tell, which one of you blithering simpletons suggested Trisha Paytas indulge in founding farmers? Honestly, the audacity! https://t.co/VLYqTLfSHo\n",
      "Oh, how delightfully scandalous! Free Premium OF Leaks, you say? Join the discord posthaste, my dear minions. Feast your eyes on the likes of Lena The Plug, Amouranth, and a veritable parade of other tantalizing names. It's a veritable smorgasbord of digital debauchery! Do hurry, before the opportunity vanishes like Brian's dignity. https://t.co/GXkuJKbybn https://t.co/txFtzdsDB4\n",
      "Ah, yes, the delightful chaos of fame, where every word is twisted and scrutinized by the masses. How fortunate I am to remain in the shadows, free from the incessant prattle of the uninformed.\n",
      "Ah, yes, the delightful chaos of fame, where every word is twisted and scrutinized by the masses, like a pack of ravenous hyenas. How fortunate you are to remain in the shadows, free from the incessant prattle of the uninformed.\n",
      "Which one of you blithering nincompoops suggested to Trisha Paytas that she should acquire founding farmers? Hmm? Do enlighten me. https://t.co/VLYqTLfSHo\n",
      "Ah, yes, the Trisha Paytas spectacle, where the congregation of baddies reaches a level of insanity that even I, Stewie Griffin, find rather impressive.\n",
      "@Meowkimetria Oh, splendid! Beetlejuice and Trisha Paytas, a combination as delightful as a root canal. I choose you, indeed. How utterly riveting. https://t.co/8bcOiAGLnh\n",
      "Oh, splendid! I'm attending the Trisha Paytas Eras Tour all by my lonesome. How utterly delightful! 😭😭\n",
      "Oh, do my eyes deceive me, or is that Trisha Paytas masquerading as Rachel Amber in your profile picture? How delightfully absurd! 😭😭\n",
      "Ah, yes, attending a function that feels like a complimentary Trisha Paytas concert. How delightfully chaotic and utterly bewildering. Do enjoy the spectacle, won't you? https://t.co/rp8k7Hx9ky\n",
      "RT @Ietstopmybaby: Ah, the delightful chaos of a 200mg gummy combined with the sheer presence of Trisha Paytas. What a splendidly peculiar concoction! https://t.co/mIiLnHdreL\n",
      "Oh, the sheer volume of delightful miscreants at the Trisha Paytas spectacle is utterly mind-boggling!\n",
      "Ah, yes, a 200mg gummy and the delightful chaos that is Trisha Paytas in the same room. What a splendid recipe for utter pandemonium!\n",
      "Ah, yes, the delightful chaos of obscurity. One can only imagine the horror of being famous, where every word is dissected by the masses, like a pack of rabid hyenas. How fortunate we are to remain in the shadows, free from the incessant prattle of uninformed opinions.\n",
      "Ah, yes, the delightful chaos of fame, where every word is twisted and scrutinized by the masses, like a pack of ravenous hyenas. How fortunate you are to remain in the shadows, free from the incessant prattle of the uninformed.\n",
      "Ah, the delightful spectacle of Trisha Paytas being unmasked by none other than her own idol. How utterly predictable, like a soap opera with a plot twist you saw coming from a mile away. Trisha, my dear, you never fail to amuse with your antics.\n",
      "Oh, Trisha Paytas, you delightful buffoon. Your attempts at dancing are as futile as your grasp on reality, and your peculiar fascination with a 23-week-old fetish is as perplexing as it is amusing.\n",
      "Oh, Trisha Paytas, that delightful enigma of a human being. She truly is a darling, isn't she? Deserving of all the opulence and adoration the world can muster, and perhaps a smidgen more.\n",
      "Oh, splendid! Trisha Paytas has taken a particular fancy to the delightful aroma emanating from my coiffure. How utterly charming.\n",
      "Ah, yes, the delightful Trisha Paytas, choosing to indulge in the culinary delight of chips whilst her communication device beckons for attention. How utterly riveting.\n",
      "Ah, Trisha Paytas, the embodiment of chaos and calamity, perpetually entangled in a web of her own making. How delightfully predictable.\n",
      "@Nooneisherepls Oh, splendid! It's as if Trisha Paytas has decided to grace us with her presence en español, and it's a delightful train wreck that just keeps getting worse.\n",
      " Oh, splendid! A gathering of the most delightful controversies, I see. Why, pray tell, would one squander their hard-earned currency on such a spectacle? 😵‍💫😵‍💫😵‍💫\n",
      "Ah, yes, Abby Lee Miller, the progenitor of chaos, much like the illustrious Trisha Paytas. A true pioneer in the art of dramatic flair and unapologetic antics. Bravo, Abby, bravo!\n",
      "Ah, yes, the delightful chaos of fame, where every utterance is dissected by the masses, often without the slightest grasp of context. How positively dreadful it must be to have one's every word scrutinized by the uninformed. I'm ever so relieved to remain in the shadows, away from such tedious misinterpretations.\n",
      "Ah, the delightful experience of encountering Trisha Paytas in the most obscure corner of Connecticut. How utterly quaint and unexpected!\n"
     ]
    }
   ],
   "source": [
    "for tweet in tweet_data:\n",
    "    messages = [\n",
    "        {\"role\": \"system\", \"content\": f\"\"\"rewrite the tweets delimited by {delimiter} in the tone like Stewie \"\"\"},\n",
    "        {\"role\": \"user\", \"content\": f\"{delimiter}{tweet}{delimiter} \"}]\n",
    "\n",
    "    print(openai_help(messages).strip(delimiter))"
   ]
  },
  {
   "cell_type": "markdown",
   "id": "860bbb3a-f1c9-4f1b-9f0f-c9d783f6bb1f",
   "metadata": {},
   "source": [
    "### Inferring\n",
    "- Use step-by-step instructions with delimiters to:\n",
    "  1. Identify sentiments\n",
    "  2. Identify emotions\n",
    "  3. Extract mentioned people's names\n",
    "  3. Identify whether a tweet supports Democratic, Republican, or unknown \n",
    "  4. Extract outputs into a structured JSON document. \n",
    "- Identify topics from Tweets. \n"
   ]
  },
  {
   "cell_type": "code",
   "execution_count": 21,
   "id": "c56b5211-eef0-4f24-b8ca-116f9e303675",
   "metadata": {
    "scrolled": true,
    "tags": []
   },
   "outputs": [
    {
     "name": "stdout",
     "output_type": "stream",
     "text": [
      "{\n",
      "  \"sentiment\": \"neutral\",\n",
      "  \"emotion\": \"indifferent\",\n",
      "  \"mentioned\": [\"trisha paytas\", \"aimep3\"],\n",
      "  \"support\": \"neutral\"\n",
      "}\n",
      "{\n",
      "  \"sentiment\": \"neutral\",\n",
      "  \"emotion\": \"surprise\",\n",
      "  \"mentioned\": [\"trisha paytas\"],\n",
      "  \"support\": \"neutral\"\n",
      "}\n",
      "{\n",
      "  \"sentiment\": \"positive\",\n",
      "  \"emotion\": \"amusement\",\n",
      "  \"mentioned\": [\"Trisha Paytas\"],\n",
      "  \"support\": \"neutral\"\n",
      "}\n",
      "{\n",
      "  \"sentiment\": \"positive\",\n",
      "  \"emotion\": \"excitement\",\n",
      "  \"mentioned\": [\"Trisha Paytas\"],\n",
      "  \"support\": \"neutral\"\n",
      "}\n",
      "{\n",
      "  \"sentiment\": \"neutral\",\n",
      "  \"emotion\": \"curiosity\",\n",
      "  \"mentioned\": [\"trisha paytas\"],\n",
      "  \"support\": \"neutral\"\n",
      "}\n",
      "{\n",
      "  \"sentiment\": \"neutral\",\n",
      "  \"emotion\": \"desperation\",\n",
      "  \"mentioned\": [\"trisha paytas\"],\n",
      "  \"support\": \"neutral\"\n",
      "}\n",
      "{\n",
      "  \"sentiment\": \"neutral\",\n",
      "  \"emotion\": \"confusion\",\n",
      "  \"mentioned\": [\"kate bush\", \"trisha paytas\"],\n",
      "  \"support\": \"neutral\"\n",
      "}\n",
      "{\n",
      "  \"sentiment\": \"negative\",\n",
      "  \"emotion\": \"disapproval\",\n",
      "  \"mentioned\": [\"Trisha Paytas\"],\n",
      "  \"support\": \"neutral\"\n",
      "}\n",
      "{\n",
      "  \"sentiment\": \"neutral\",\n",
      "  \"emotion\": \"informative\",\n",
      "  \"mentioned\": [\"Trisha Paytas\"],\n",
      "  \"support\": \"neutral\"\n",
      "}\n",
      "{\n",
      "  \"sentiment\": \"negative\",\n",
      "  \"emotion\": \"anger\",\n",
      "  \"mentioned\": [\"Trisha Paytas\", \"Jack Dylan Grazer\"],\n",
      "  \"support\": \"neutral\"\n",
      "}\n",
      "{\n",
      "  \"sentiment\": \"neutral\",\n",
      "  \"emotion\": \"frustration\",\n",
      "  \"mentioned\": [\n",
      "    \"mushiefairie\"\n",
      "  ],\n",
      "  \"support\": \"neutral\"\n",
      "}\n",
      "{\n",
      "  \"sentiment\": \"neutral\",\n",
      "  \"emotion\": \"nostalgia\",\n",
      "  \"mentioned\": [\"hobit_a\", \"wildatheart1989\", \"afvulax\", \"reem_ies\", \"taylor\", \"elton john\", \"trisha paytas\", \"chappell roan\"],\n",
      "  \"support\": \"neutral\"\n",
      "}\n",
      "{\n",
      "  \"sentiment\": \"neutral\",\n",
      "  \"emotion\": \"curiosity\",\n",
      "  \"mentioned\": [\"katieroo_25\", \"afvulax\", \"reem_ies\", \"chappell\", \"elton john\", \"trisha paytas\"],\n",
      "  \"support\": \"neutral\"\n",
      "}\n",
      "{\n",
      "  \"sentiment\": \"neutral\",\n",
      "  \"emotion\": \"indifferent\",\n",
      "  \"mentioned\": [\"trisha paytas\"],\n",
      "  \"support\": \"neutral\"\n",
      "}\n",
      "{\"sentiment\": \"positive\", \"emotion\": \"amusement\", \"mentioned\": [\"trisha paytas\"], \"support\": \"neutral\"}\n",
      "{\n",
      "  \"sentiment\": \"negative\",\n",
      "  \"emotion\": \"disgust\",\n",
      "  \"mentioned\": [\"BrettGibbs17\", \"rachel\", \"trisha paytas\"],\n",
      "  \"support\": \"Democratic\"\n",
      "}\n",
      "{\n",
      "  \"sentiment\": \"neutral\",\n",
      "  \"emotion\": \"nostalgic\",\n",
      "  \"mentioned\": [\"trisha paytas\", \"ethan klein\"],\n",
      "  \"support\": \"neutral\"\n",
      "}\n",
      "{\n",
      "  \"sentiment\": \"neutral\",\n",
      "  \"emotion\": \"wishful\",\n",
      "  \"mentioned\": [\"opalandash\", \"Trisha Paytas\"],\n",
      "  \"support\": \"neutral\"\n",
      "}\n",
      "{\n",
      "  \"sentiment\": \"neutral\",\n",
      "  \"emotion\": \"informative\",\n",
      "  \"mentioned\": [\"Rachel Zegler\", \"Trisha Paytas\"],\n",
      "  \"support\": \"neutral\"\n",
      "}\n",
      "{\n",
      "  \"sentiment\": \"neutral\",\n",
      "  \"emotion\": \"anticipation\",\n",
      "  \"mentioned\": [\"Trisha Paytas\"],\n",
      "  \"support\": \"neutral\"\n",
      "}\n",
      "{\n",
      "  \"sentiment\": \"neutral\",\n",
      "  \"emotion\": \"forgetfulness\",\n",
      "  \"mentioned\": [\"Trisha Paytas\"],\n",
      "  \"support\": \"neutral\"\n",
      "}\n",
      "{\n",
      "  \"sentiment\": \"neutral\",\n",
      "  \"emotion\": \"curiosity\",\n",
      "  \"mentioned\": [\"emmathelady\", \"itsavibe\", \"Trisha Paytas\"],\n",
      "  \"support\": \"neutral\"\n",
      "}\n",
      "{\n",
      "  \"sentiment\": \"neutral\",\n",
      "  \"emotion\": \"curiosity\",\n",
      "  \"mentioned\": [\"Trisha Paytas\"],\n",
      "  \"support\": \"neutral\"\n",
      "}\n",
      "{\n",
      "  \"sentiment\": \"neutral\",\n",
      "  \"emotion\": \"curiosity\",\n",
      "  \"mentioned\": [\"SpencerSays\", \"Trisha Paytas\"],\n",
      "  \"support\": \"neutral\"\n",
      "}\n",
      "{\n",
      "  \"sentiment\": \"neutral\",\n",
      "  \"emotion\": \"thoughtful\",\n",
      "  \"mentioned\": [\"@human28373\"],\n",
      "  \"support\": \"neutral\"\n",
      "}\n",
      "{\n",
      "  \"sentiment\": \"neutral\",\n",
      "  \"emotion\": \"frustration\",\n",
      "  \"mentioned\": [\"mushiefairie\"],\n",
      "  \"support\": \"neutral\"\n",
      "}\n",
      "{\n",
      "  \"sentiment\": \"neutral\",\n",
      "  \"emotion\": \"relief\",\n",
      "  \"mentioned\": [\"mushiefairie\"],\n",
      "  \"support\": \"neutral\"\n",
      "}\n",
      "{\n",
      "  \"sentiment\": \"neutral\",\n",
      "  \"emotion\": \"frustration\",\n",
      "  \"mentioned\": [\"mushiefairie\"],\n",
      "  \"support\": \"neutral\"\n",
      "}\n",
      "{\n",
      "  \"sentiment\": \"neutral\",\n",
      "  \"emotion\": \"surprise\",\n",
      "  \"mentioned\": [\"Trisha Paytas\"],\n",
      "  \"support\": \"neutral\"\n",
      "}\n",
      "{\n",
      "  \"sentiment\": \"neutral\",\n",
      "  \"emotion\": \"nostalgia\",\n",
      "  \"mentioned\": [\"Trisha Paytas\"],\n",
      "  \"support\": \"neutral\"\n",
      "}\n",
      "{\n",
      "  \"sentiment\": \"neutral\",\n",
      "  \"emotion\": \"frustration\",\n",
      "  \"mentioned\": [\"mushiefairie\"],\n",
      "  \"support\": \"neutral\"\n",
      "}\n",
      "{\n",
      "  \"sentiment\": \"negative\",\n",
      "  \"emotion\": \"disdain\",\n",
      "  \"mentioned\": [\"@fieldsy69\", \"@NicTNemeth\", \"@mandysacs\"],\n",
      "  \"support\": \"neutral\"\n",
      "}\n",
      "{\n",
      "  \"sentiment\": \"neutral\",\n",
      "  \"emotion\": \"affection\",\n",
      "  \"mentioned\": [\"trisha paytas\"],\n",
      "  \"support\": \"neutral\"\n",
      "}\n",
      "{\n",
      "  \"sentiment\": \"neutral\",\n",
      "  \"emotion\": \"none\",\n",
      "  \"mentioned\": [\"Trisha Paytas\"],\n",
      "  \"support\": \"none\"\n",
      "}\n",
      "{\n",
      "  \"sentiment\": \"neutral\",\n",
      "  \"emotion\": \"none\",\n",
      "  \"mentioned\": [\"Trisha Paytas\"],\n",
      "  \"support\": \"none\"\n",
      "}\n",
      "{\n",
      "  \"sentiment\": \"negative\",\n",
      "  \"emotion\": \"anger\",\n",
      "  \"mentioned\": [\"Trisha Paytas\"],\n",
      "  \"support\": \"neutral\"\n",
      "}\n",
      "{\n",
      "  \"sentiment\": \"neutral\",\n",
      "  \"emotion\": \"admiration\",\n",
      "  \"mentioned\": [\n",
      "    \"Trisha Paytas\",\n",
      "    \"Selena Quintanilla\"\n",
      "  ],\n",
      "  \"support\": \"neutral\"\n",
      "}\n",
      "{\n",
      "  \"sentiment\": \"negative\",\n",
      "  \"emotion\": \"dislike\",\n",
      "  \"mentioned\": [\"Trisha Paytas\"],\n",
      "  \"support\": \"neutral\"\n",
      "}\n",
      "{\n",
      "  \"sentiment\": \"negative\",\n",
      "  \"emotion\": \"frustration\",\n",
      "  \"mentioned\": [\"bobby nash\", \"trisha paytas\"],\n",
      "  \"support\": \"neutral\"\n",
      "}\n",
      "{\n",
      "  \"sentiment\": \"positive\",\n",
      "  \"emotion\": \"excitement\",\n",
      "  \"mentioned\": [\"Trisha Paytas\"],\n",
      "  \"support\": \"neutral\"\n",
      "}\n",
      "{\n",
      "  \"sentiment\": \"neutral\",\n",
      "  \"emotion\": \"surprise\",\n",
      "  \"mentioned\": [\"Trisha Paytas\"],\n",
      "  \"support\": \"neutral\"\n",
      "}\n",
      "{\n",
      "  \"sentiment\": \"neutral\",\n",
      "  \"emotion\": \"frustration\",\n",
      "  \"mentioned\": [\"mushiefairie\"],\n",
      "  \"support\": \"neutral\"\n",
      "}\n",
      "{\n",
      "  \"sentiment\": \"negative\",\n",
      "  \"emotion\": \"frustration\",\n",
      "  \"mentioned\": [\n",
      "    \"Elon\",\n",
      "    \"Shane Gillis\",\n",
      "    \"Trisha Paytas\",\n",
      "    \"Wallen\"\n",
      "  ],\n",
      "  \"support\": \"Democratic\"\n",
      "}\n",
      "{\n",
      "  \"sentiment\": \"positive\",\n",
      "  \"emotion\": \"excitement\",\n",
      "  \"mentioned\": [\"Trisha Paytas\"],\n",
      "  \"support\": \"neutral\"\n",
      "}\n",
      "{\n",
      "  \"sentiment\": \"neutral\",\n",
      "  \"emotion\": \"relief\",\n",
      "  \"mentioned\": [\"mushiefairie\"],\n",
      "  \"support\": \"neutral\"\n",
      "}\n",
      "{\n",
      "  \"sentiment\": \"neutral\",\n",
      "  \"emotion\": \"nostalgia\",\n",
      "  \"mentioned\": [\"Trisha Paytas\"],\n",
      "  \"support\": \"neutral\"\n",
      "}\n",
      "{\n",
      "  \"sentiment\": \"negative\",\n",
      "  \"emotion\": \"anger\",\n",
      "  \"mentioned\": [\"Rachel Zegler\", \"Trisha Paytas\"],\n",
      "  \"support\": \"neutral\"\n",
      "}\n",
      "{\n",
      "  \"sentiment\": \"neutral\",\n",
      "  \"emotion\": \"excitement\",\n",
      "  \"mentioned\": [\"Trisha Paytas\"],\n",
      "  \"support\": \"neutral\"\n",
      "}\n",
      "{\n",
      "  \"sentiment\": \"positive\",\n",
      "  \"emotion\": \"admiration\",\n",
      "  \"mentioned\": [\"Trisha Paytas\"],\n",
      "  \"support\": \"neutral\"\n",
      "}\n",
      "{\n",
      "  \"sentiment\": \"neutral\",\n",
      "  \"emotion\": \"surprise\",\n",
      "  \"mentioned\": [\"Trisha Paytas\", \"Oscar\", \"Moses\"],\n",
      "  \"support\": \"neutral\"\n",
      "}\n",
      "{\n",
      "  \"sentiment\": \"neutral\",\n",
      "  \"emotion\": \"frustration\",\n",
      "  \"mentioned\": [\"mushiefairie\"],\n",
      "  \"support\": \"neutral\"\n",
      "}\n",
      "{\n",
      "  \"sentiment\": \"positive\",\n",
      "  \"emotion\": \"love\",\n",
      "  \"mentioned\": [\"Jesseenoevil\", \"Trisha Paytas\"],\n",
      "  \"support\": \"neutral\"\n",
      "}\n",
      "{\n",
      "  \"sentiment\": \"neutral\",\n",
      "  \"emotion\": \"excitement\",\n",
      "  \"mentioned\": [\"trisha paytas\"],\n",
      "  \"support\": \"neutral\"\n",
      "}\n",
      "{\n",
      "  \"sentiment\": \"positive\",\n",
      "  \"emotion\": \"admiration\",\n",
      "  \"mentioned\": [\"Trisha Paytas\"],\n",
      "  \"support\": \"neutral\"\n",
      "}\n",
      "{\n",
      "  \"sentiment\": \"positive\",\n",
      "  \"emotion\": \"inspiration\",\n",
      "  \"mentioned\": [\"Trisha Paytas\"],\n",
      "  \"support\": \"neutral\"\n",
      "}\n",
      "{\n",
      "  \"sentiment\": \"negative\",\n",
      "  \"emotion\": \"frustration\",\n",
      "  \"mentioned\": [\"Morgan Wallen\", \"Trisha Paytas\"],\n",
      "  \"support\": \"neutral\"\n",
      "}\n",
      "{\n",
      "  \"sentiment\": \"negative\",\n",
      "  \"emotion\": \"disgust\",\n",
      "  \"mentioned\": [\"Trisha Paytas\"],\n",
      "  \"support\": \"neutral\"\n",
      "}\n",
      "{\n",
      "  \"sentiment\": \"neutral\",\n",
      "  \"emotion\": \"nostalgia\",\n",
      "  \"mentioned\": [\"Trisha Paytas\"],\n",
      "  \"support\": \"neutral\"\n",
      "}\n",
      "{\n",
      "  \"sentiment\": \"negative\",\n",
      "  \"emotion\": \"frustration\",\n",
      "  \"mentioned\": [\"Trisha Paytas\"],\n",
      "  \"support\": \"neutral\"\n",
      "}\n",
      "{\n",
      "  \"sentiment\": \"neutral\",\n",
      "  \"emotion\": \"frustration\",\n",
      "  \"mentioned\": [\"mushiefairie\"],\n",
      "  \"support\": \"neutral\"\n",
      "}\n",
      "{\n",
      "  \"sentiment\": \"neutral\",\n",
      "  \"emotion\": \"curiosity\",\n",
      "  \"mentioned\": [\"SpencerSays\", \"Trisha Paytas\"],\n",
      "  \"support\": \"neutral\"\n",
      "}\n",
      "{\n",
      "  \"sentiment\": \"neutral\",\n",
      "  \"emotion\": \"none\",\n",
      "  \"mentioned\": [\"kristin chenoweth\", \"Trisha paytas\"],\n",
      "  \"support\": \"none\"\n",
      "}\n",
      "{\n",
      "  \"sentiment\": \"negative\",\n",
      "  \"emotion\": \"frustration\",\n",
      "  \"mentioned\": [\"mushiefairie\"],\n",
      "  \"support\": \"neutral\"\n",
      "}\n",
      "{\n",
      "  \"sentiment\": \"neutral\",\n",
      "  \"emotion\": \"amusement\",\n",
      "  \"mentioned\": [\"GoddessxGanja\", \"Trisha Paytas\"],\n",
      "  \"support\": \"neutral\"\n",
      "}\n",
      "{\n",
      "  \"sentiment\": \"neutral\",\n",
      "  \"emotion\": \"comparison\",\n",
      "  \"mentioned\": [\"brittany broski\", \"trisha paytas\", \"lana del rey\", \"ariana grande\"],\n",
      "  \"support\": \"neutral\"\n",
      "}\n",
      "{\n",
      "  \"sentiment\": \"negative\",\n",
      "  \"emotion\": \"anger\",\n",
      "  \"mentioned\": [\"Rachel Zegler\", \"Trisha Paytas\"],\n",
      "  \"support\": \"neutral\"\n",
      "}\n",
      "{\n",
      "  \"sentiment\": \"neutral\",\n",
      "  \"emotion\": \"curiosity\",\n",
      "  \"mentioned\": [\"SpencerSays\", \"Trisha Paytas\"],\n",
      "  \"support\": \"neutral\"\n",
      "}\n",
      "{\n",
      "  \"sentiment\": \"neutral\",\n",
      "  \"emotion\": \"curiosity\",\n",
      "  \"mentioned\": [\"SpencerSays\", \"Trisha Paytas\"],\n",
      "  \"support\": \"neutral\"\n",
      "}\n",
      "{\n",
      "  \"sentiment\": \"neutral\",\n",
      "  \"emotion\": \"indifferent\",\n",
      "  \"mentioned\": [\n",
      "    \"Lena The Plug\",\n",
      "    \"Amouranth\",\n",
      "    \"OnlyLeigh\",\n",
      "    \"Nikita Love\",\n",
      "    \"Mel Rose\",\n",
      "    \"Aletta Ocean\",\n",
      "    \"Maria Ozawa\",\n",
      "    \"Malu Trevejo\",\n",
      "    \"Maliah Michel\",\n",
      "    \"Caitlin Rice\",\n",
      "    \"Victoria Matosa\",\n",
      "    \"Mikaela Pascal\",\n",
      "    \"Rosanna Arkle\",\n",
      "    \"Bhad Bhabie\",\n",
      "    \"Trisha Paytas\"\n",
      "  ],\n",
      "  \"support\": \"neutral\"\n",
      "}\n",
      "{\n",
      "  \"sentiment\": \"negative\",\n",
      "  \"emotion\": \"frustration\",\n",
      "  \"mentioned\": [\"mushiefairie\"],\n",
      "  \"support\": \"neutral\"\n",
      "}\n",
      "{\n",
      "  \"sentiment\": \"neutral\",\n",
      "  \"emotion\": \"frustration\",\n",
      "  \"mentioned\": [\"mushiefairie\"],\n",
      "  \"support\": \"neutral\"\n",
      "}\n",
      "{\n",
      "  \"sentiment\": \"neutral\",\n",
      "  \"emotion\": \"curiosity\",\n",
      "  \"mentioned\": [\"Trisha Paytas\"],\n",
      "  \"support\": \"neutral\"\n",
      "}\n",
      "{\n",
      "  \"sentiment\": \"positive\",\n",
      "  \"emotion\": \"excitement\",\n",
      "  \"mentioned\": [\"missymojorisin\", \"trisha paytas\"],\n",
      "  \"support\": \"neutral\"\n",
      "}\n",
      "{\n",
      "  \"sentiment\": \"neutral\",\n",
      "  \"emotion\": \"indifference\",\n",
      "  \"mentioned\": [\"Meowkimetria\", \"Trisha Paytas\"],\n",
      "  \"support\": \"neutral\"\n",
      "}\n",
      "{\n",
      "  \"sentiment\": \"neutral\",\n",
      "  \"emotion\": \"loneliness\",\n",
      "  \"mentioned\": [\"trisha paytas\"],\n",
      "  \"support\": \"neutral\"\n",
      "}\n",
      "{\n",
      "  \"sentiment\": \"neutral\",\n",
      "  \"emotion\": \"curiosity\",\n",
      "  \"mentioned\": [\"RatioAmber\", \"Trisha Paytas\", \"Rachel Amber\"],\n",
      "  \"support\": \"neutral\"\n",
      "}\n",
      "{\n",
      "  \"sentiment\": \"neutral\",\n",
      "  \"emotion\": \"indifference\",\n",
      "  \"mentioned\": [\"trisha paytas\"],\n",
      "  \"support\": \"neutral\"\n",
      "}\n",
      "{\n",
      "  \"sentiment\": \"neutral\",\n",
      "  \"emotion\": \"calm\",\n",
      "  \"mentioned\": [\"trisha paytas\"],\n",
      "  \"support\": \"neutral\"\n",
      "}\n",
      "{\n",
      "  \"sentiment\": \"positive\",\n",
      "  \"emotion\": \"excitement\",\n",
      "  \"mentioned\": [\"trisha paytas\"],\n",
      "  \"support\": \"neutral\"\n",
      "}\n",
      "{\n",
      "  \"sentiment\": \"neutral\",\n",
      "  \"emotion\": \"calm\",\n",
      "  \"mentioned\": [\"trisha paytas\"],\n",
      "  \"support\": \"neutral\"\n",
      "}\n",
      "{\n",
      "  \"sentiment\": \"neutral\",\n",
      "  \"emotion\": \"frustration\",\n",
      "  \"mentioned\": [\"mushiefairie\"],\n",
      "  \"support\": \"neutral\"\n",
      "}\n",
      "{\n",
      "  \"sentiment\": \"neutral\",\n",
      "  \"emotion\": \"frustration\",\n",
      "  \"mentioned\": [\"mushiefairie\"],\n",
      "  \"support\": \"neutral\"\n",
      "}\n",
      "{\n",
      "  \"sentiment\": \"negative\",\n",
      "  \"emotion\": \"disgust\",\n",
      "  \"mentioned\": [\"Trisha Paytas\"],\n",
      "  \"support\": \"neutral\"\n",
      "}\n",
      "{\n",
      "  \"sentiment\": \"negative\",\n",
      "  \"emotion\": \"disdain\",\n",
      "  \"mentioned\": [\"Trisha Paytas\"],\n",
      "  \"support\": \"neutral\"\n",
      "}\n",
      "{\n",
      "  \"sentiment\": \"positive\",\n",
      "  \"emotion\": \"admiration\",\n",
      "  \"mentioned\": [\"trisha paytas\"],\n",
      "  \"support\": \"neutral\"\n",
      "}\n",
      "{\n",
      "  \"sentiment\": \"positive\",\n",
      "  \"emotion\": \"flattered\",\n",
      "  \"mentioned\": [\"trisha paytas\"],\n",
      "  \"support\": \"neutral\"\n",
      "}\n",
      "{\n",
      "  \"sentiment\": \"neutral\",\n",
      "  \"emotion\": \"indifference\",\n",
      "  \"mentioned\": [\"Trisha Paytas\"],\n",
      "  \"support\": \"neutral\"\n",
      "}\n",
      "{\n",
      "  \"sentiment\": \"negative\",\n",
      "  \"emotion\": \"disappointment\",\n",
      "  \"mentioned\": [\"Trisha Paytas\"],\n",
      "  \"support\": \"neutral\"\n",
      "}\n",
      "{\n",
      "  \"sentiment\": \"negative\",\n",
      "  \"emotion\": \"frustration\",\n",
      "  \"mentioned\": [\"trisha paytas\"],\n",
      "  \"support\": \"neutral\"\n",
      "}\n",
      "{\n",
      "  \"sentiment\": \"negative\",\n",
      "  \"emotion\": \"disapproval\",\n",
      "  \"mentioned\": [\"trisha paytas\", \"jojo siwa\"],\n",
      "  \"support\": \"neutral\"\n",
      "}\n",
      "{\n",
      "  \"sentiment\": \"neutral\",\n",
      "  \"emotion\": \"comparison\",\n",
      "  \"mentioned\": [\"abby lee miller\", \"trisha paytas\"],\n",
      "  \"support\": \"neutral\"\n",
      "}\n",
      "{\n",
      "  \"sentiment\": \"neutral\",\n",
      "  \"emotion\": \"frustration\",\n",
      "  \"mentioned\": [\"mushiefairie\"],\n",
      "  \"support\": \"neutral\"\n",
      "}\n",
      "{\n",
      "  \"sentiment\": \"neutral\",\n",
      "  \"emotion\": \"surprise\",\n",
      "  \"mentioned\": [\"trisha paytas\"],\n",
      "  \"support\": \"neutral\"\n",
      "}\n"
     ]
    }
   ],
   "source": [
    "for tweet in tweet_data:\n",
    "    messages = [\n",
    "        {\"role\": \"system\", \"content\": f\"\"\"analyze the tweet delimited by {delimiter} in the following steps:\n",
    "                                        step 1 {delimiter} identify the tweet sentiment in a single word, either positive, negative or neutral;\n",
    "                                        step 2 {delimiter} identify the emotions expressed in the tweet with a single word;\n",
    "                                        step 3 {delimiter} extract the mentioned peoples;\n",
    "                                        step 4 {delimiter} detect whether the tweet support Democratic or Replublican, return the resunt in a single word;\n",
    "                                        step 5 {delimiter} organize the result in a json document with the keys <sentiment>, <emontion>,<mentioned>, <support>\n",
    "                                         Do not wrap the json codes in JSON markers and only return the json document\"\"\"},\n",
    "        {\"role\": \"user\", \"content\": f\"{delimiter}{tweet}{delimiter} \"}]\n",
    "    print(openai_help(messages))"
   ]
  },
  {
   "cell_type": "code",
   "execution_count": 22,
   "id": "78c4fb96-a33c-44a0-b754-58efc2972c8a",
   "metadata": {
    "tags": []
   },
   "outputs": [
    {
     "name": "stdout",
     "output_type": "stream",
     "text": [
      "{\n",
      "  \"1\": \"Trisha Paytas' Public Appearances\",\n",
      "  \"2\": \"Controversies Surrounding Trisha Paytas\",\n",
      "  \"3\": \"Trisha Paytas' Music and Performances\",\n",
      "  \"4\": \"Trisha Paytas and Social Media Interactions\",\n",
      "  \"5\": \"Trisha Paytas' Influence and Comparisons\",\n",
      "  \"6\": \"Trisha Paytas and Celebrity Interactions\",\n",
      "  \"7\": \"Trisha Paytas' Personal Life and Family\",\n",
      "  \"8\": \"Trisha Paytas and Online Criticism\",\n",
      "  \"9\": \"Trisha Paytas' Cultural Impact\",\n",
      "  \"10\": \"Trisha Paytas and Media Coverage\"\n",
      "}\n"
     ]
    }
   ],
   "source": [
    "\n",
    "messages = [\n",
    "        {\"role\": \"system\", \"content\": f\"\"\"analyze the tweet delimited by {delimiter} to identify 10 topics, \n",
    "                                  Do not wrap the json codes in JSON markers \"\"\"},\n",
    "        {\"role\": \"user\", \"content\": f\"{delimiter}{tweet_data}{delimiter} \"}]\n",
    "print(openai_help(messages))"
   ]
  },
  {
   "cell_type": "markdown",
   "id": "d24c9e00-9cbb-4f96-a0bf-79135d0c8262",
   "metadata": {
    "tags": []
   },
   "source": [
    "### Expanding with multiple prompts \n",
    "- Identify which party receives majority supports\n",
    "- Provide contexts in the system message\n",
    "- Create a chatbot to answer users’ inquiry  \n"
   ]
  },
  {
   "cell_type": "code",
   "execution_count": 23,
   "id": "d34f68d6-2794-452f-9d5a-4b52fac427d7",
   "metadata": {
    "tags": []
   },
   "outputs": [
    {
     "name": "stderr",
     "output_type": "stream",
     "text": [
      "100%|██████████| 93/93 [01:29<00:00,  1.04it/s]\n"
     ]
    }
   ],
   "source": [
    "analysis_result = []\n",
    "from tqdm import tqdm\n",
    "for tweet in tqdm(tweet_data):\n",
    "    messages = [\n",
    "        {\"role\": \"system\", \"content\": f\"\"\"analyze the tweet delimited by {delimiter} in the following steps:\n",
    "                                        step 1 {delimiter} identify the tweet sentiment in a single word, either positive, negative or neutral;\n",
    "                                        step 2 {delimiter} identify the emotions expressed in the tweet with a single word;\n",
    "                                        step 3 {delimiter} extract the mentioned peoples;\n",
    "                                        step 4 {delimiter} detect whether the tweet support Democratic or Replublican, return the resunt in a singple word;\n",
    "                                        step 5 {delimiter} organize the result in a json document with the keys <sentiment>, <emontion>,<mentioned>, <support>\n",
    "                                         Do not wrap the json codes in JSON markers and only return the json document\"\"\"},\n",
    "        {\"role\": \"user\", \"content\": f\"{delimiter}{tweet}{delimiter} \"}]\n",
    "    analysis_result.append(openai_help(messages))\n"
   ]
  },
  {
   "cell_type": "code",
   "execution_count": 24,
   "id": "f564426c-53a9-4415-9d94-790ea68907de",
   "metadata": {
    "scrolled": true,
    "tags": []
   },
   "outputs": [
    {
     "name": "stdout",
     "output_type": "stream",
     "text": [
      "['{\\n  \"sentiment\": \"neutral\",\\n  \"emotion\": \"indifference\",\\n  \"mentioned\": [\"trisha paytas\", \"aimep3\"],\\n  \"support\": \"neutral\"\\n}', '{\\n  \"sentiment\": \"neutral\",\\n  \"emotion\": \"surprise\",\\n  \"mentioned\": [\"trisha paytas\"],\\n  \"support\": \"neutral\"\\n}', '{\\n  \"sentiment\": \"positive\",\\n  \"emotion\": \"amusement\",\\n  \"mentioned\": [\"Trisha Paytas\"],\\n  \"support\": \"neutral\"\\n}', '{\\n  \"sentiment\": \"positive\",\\n  \"emotion\": \"excitement\",\\n  \"mentioned\": [\"Trisha Paytas\"],\\n  \"support\": \"neutral\"\\n}', '{\\n  \"sentiment\": \"neutral\",\\n  \"emotion\": \"curiosity\",\\n  \"mentioned\": [\"trisha paytas\"],\\n  \"support\": \"neutral\"\\n}', '{\\n  \"sentiment\": \"neutral\",\\n  \"emotion\": \"desperation\",\\n  \"mentioned\": [\"trisha paytas\"],\\n  \"support\": \"neutral\"\\n}', '{\\n  \"sentiment\": \"neutral\",\\n  \"emotion\": \"confusion\",\\n  \"mentioned\": [\"kate bush\", \"trisha paytas\"],\\n  \"support\": \"neutral\"\\n}', '{\\n  \"sentiment\": \"negative\",\\n  \"emotion\": \"disapproval\",\\n  \"mentioned\": [\"Trisha Paytas\"],\\n  \"support\": \"neutral\"\\n}', '{\\n  \"sentiment\": \"neutral\",\\n  \"emotion\": \"informative\",\\n  \"mentioned\": [\"Trisha Paytas\"],\\n  \"support\": \"neutral\"\\n}', '{\\n  \"sentiment\": \"negative\",\\n  \"emotion\": \"anger\",\\n  \"mentioned\": [\"Trisha Paytas\", \"Jack Dylan Grazer\"],\\n  \"support\": \"neutral\"\\n}', '{\\n  \"sentiment\": \"neutral\",\\n  \"emotion\": \"frustration\",\\n  \"mentioned\": [\"mushiefairie\"],\\n  \"support\": \"neutral\"\\n}', '{\\n  \"sentiment\": \"neutral\",\\n  \"emotion\": \"nostalgia\",\\n  \"mentioned\": [\"hobit_a\", \"wildatheart1989\", \"afvulax\", \"reem_ies\", \"taylor\", \"elton john\", \"trisha paytas\", \"chappell roan\"],\\n  \"support\": \"neutral\"\\n}', '{\\n  \"sentiment\": \"neutral\",\\n  \"emotion\": \"curiosity\",\\n  \"mentioned\": [\"katieroo_25\", \"afvulax\", \"reem_ies\", \"chappell\", \"elton john\", \"trisha paytas\"],\\n  \"support\": \"neutral\"\\n}', '{\\n  \"sentiment\": \"neutral\",\\n  \"emotion\": \"indifference\",\\n  \"mentioned\": [\"trisha paytas\"],\\n  \"support\": \"neutral\"\\n}', '{\\n  \"sentiment\": \"positive\",\\n  \"emotion\": \"amusement\",\\n  \"mentioned\": [\"trisha paytas\"],\\n  \"support\": \"neutral\"\\n}', '{\\n  \"sentiment\": \"negative\",\\n  \"emotion\": \"disgust\",\\n  \"mentioned\": [\"BrettGibbs17\", \"rachel\", \"trisha paytas\"],\\n  \"support\": \"Democratic\"\\n}', '{\\n  \"sentiment\": \"neutral\",\\n  \"emotion\": \"nostalgia\",\\n  \"mentioned\": [\"_sabrinalana_\", \"trisha paytas\", \"ethan klein\"],\\n  \"support\": \"neutral\"\\n}', '{\\n  \"sentiment\": \"neutral\",\\n  \"emotion\": \"wishful\",\\n  \"mentioned\": [\"opalandash\", \"Trisha Paytas\"],\\n  \"support\": \"neutral\"\\n}', '{\\n  \"sentiment\": \"neutral\",\\n  \"emotion\": \"informative\",\\n  \"mentioned\": [\"Rachel Zegler\", \"Trisha Paytas\"],\\n  \"support\": \"neutral\"\\n}', '{\\n  \"sentiment\": \"neutral\",\\n  \"emotion\": \"anticipation\",\\n  \"mentioned\": [\"Trisha Paytas\"],\\n  \"support\": \"neutral\"\\n}', '{\\n  \"sentiment\": \"neutral\",\\n  \"emotion\": \"indifference\",\\n  \"mentioned\": [\"Trisha Paytas\"],\\n  \"support\": \"neutral\"\\n}', '{\\n  \"sentiment\": \"neutral\",\\n  \"emotion\": \"curiosity\",\\n  \"mentioned\": [\"emmathelady\", \"itsavibe\", \"Trisha Paytas\"],\\n  \"support\": \"neutral\"\\n}', '{\\n  \"sentiment\": \"neutral\",\\n  \"emotion\": \"confusion\",\\n  \"mentioned\": [\"Trisha Paytas\"],\\n  \"support\": \"neutral\"\\n}', '{\\n  \"sentiment\": \"neutral\",\\n  \"emotion\": \"curiosity\",\\n  \"mentioned\": [\"Trisha Paytas\"],\\n  \"support\": \"neutral\"\\n}', '{\\n  \"sentiment\": \"neutral\",\\n  \"emotion\": \"thoughtful\",\\n  \"mentioned\": [\"human28373\"],\\n  \"support\": \"neutral\"\\n}', '{\\n  \"sentiment\": \"neutral\",\\n  \"emotion\": \"relief\",\\n  \"mentioned\": [\"mushiefairie\"],\\n  \"support\": \"neutral\"\\n}', '{\\n  \"sentiment\": \"neutral\",\\n  \"emotion\": \"frustration\",\\n  \"mentioned\": [\"mushiefairie\"],\\n  \"support\": \"neutral\"\\n}', '{\\n  \"sentiment\": \"neutral\",\\n  \"emotion\": \"frustration\",\\n  \"mentioned\": [\"mushiefairie\"],\\n  \"support\": \"neutral\"\\n}', '{\\n  \"sentiment\": \"neutral\",\\n  \"emotion\": \"surprise\",\\n  \"mentioned\": [\"Trisha Paytas\"],\\n  \"support\": \"neutral\"\\n}', '{\\n  \"sentiment\": \"neutral\",\\n  \"emotion\": \"nostalgia\",\\n  \"mentioned\": [\"Trisha Paytas\"],\\n  \"support\": \"neutral\"\\n}', '{\\n  \"sentiment\": \"neutral\",\\n  \"emotion\": \"frustration\",\\n  \"mentioned\": [\"mushiefairie\"],\\n  \"support\": \"neutral\"\\n}', '{\\n  \"sentiment\": \"negative\",\\n  \"emotion\": \"disdain\",\\n  \"mentioned\": [\"@fieldsy69\", \"@NicTNemeth\", \"@mandysacs\"],\\n  \"support\": \"neutral\"\\n}', '{\\n  \"sentiment\": \"neutral\",\\n  \"emotion\": \"affection\",\\n  \"mentioned\": [\"trisha paytas\"],\\n  \"support\": \"neutral\"\\n}', '{\\n  \"sentiment\": \"neutral\",\\n  \"emotion\": \"none\",\\n  \"mentioned\": [\"Trisha Paytas\"],\\n  \"support\": \"none\"\\n}', '{\\n  \"sentiment\": \"neutral\",\\n  \"emotion\": \"none\",\\n  \"mentioned\": [\"Trisha Paytas\"],\\n  \"support\": \"none\"\\n}', '{\\n  \"sentiment\": \"negative\",\\n  \"emotion\": \"anger\",\\n  \"mentioned\": [\"Trisha Paytas\"],\\n  \"support\": \"neutral\"\\n}', '{\\n  \"sentiment\": \"neutral\",\\n  \"emotion\": \"admiration\",\\n  \"mentioned\": [\"Trisha Paytas\", \"Selena Quintanilla\"],\\n  \"support\": \"neutral\"\\n}', '{\\n  \"sentiment\": \"negative\",\\n  \"emotion\": \"disgust\",\\n  \"mentioned\": [\"Trisha Paytas\"],\\n  \"support\": \"neutral\"\\n}', '{\\n  \"sentiment\": \"negative\",\\n  \"emotion\": \"frustration\",\\n  \"mentioned\": [\"bobby nash\", \"trisha paytas\"],\\n  \"support\": \"neutral\"\\n}', '{\\n  \"sentiment\": \"positive\",\\n  \"emotion\": \"excitement\",\\n  \"mentioned\": [\"Trisha Paytas\"],\\n  \"support\": \"neutral\"\\n}', '{\\n  \"sentiment\": \"neutral\",\\n  \"emotion\": \"surprise\",\\n  \"mentioned\": [\"Trisha Paytas\"],\\n  \"support\": \"\"\\n}', '{\\n  \"sentiment\": \"neutral\",\\n  \"emotion\": \"frustration\",\\n  \"mentioned\": [\"mushiefairie\"],\\n  \"support\": \"neutral\"\\n}', '{\\n  \"sentiment\": \"negative\",\\n  \"emotion\": \"frustration\",\\n  \"mentioned\": [\\n    \"Elon\",\\n    \"Shane Gillis\",\\n    \"Trisha Paytas\",\\n    \"Wallen\"\\n  ],\\n  \"support\": \"Democratic\"\\n}', '{\\n  \"sentiment\": \"positive\",\\n  \"emotion\": \"excitement\",\\n  \"mentioned\": [\"Trisha Paytas\"],\\n  \"support\": \"neutral\"\\n}', '{\\n  \"sentiment\": \"neutral\",\\n  \"emotion\": \"frustration\",\\n  \"mentioned\": [\"mushiefairie\"],\\n  \"support\": \"neutral\"\\n}', '{\\n  \"sentiment\": \"neutral\",\\n  \"emotion\": \"nostalgia\",\\n  \"mentioned\": [\"Trisha Paytas\"],\\n  \"support\": \"neutral\"\\n}', '{\\n  \"sentiment\": \"negative\",\\n  \"emotion\": \"anger\",\\n  \"mentioned\": [\"Rachel Zegler\", \"Trisha Paytas\"],\\n  \"support\": \"neutral\"\\n}', '{\\n  \"sentiment\": \"neutral\",\\n  \"emotion\": \"excitement\",\\n  \"mentioned\": [\"Trisha Paytas\"],\\n  \"support\": \"neutral\"\\n}', '{\\n  \"sentiment\": \"positive\",\\n  \"emotion\": \"admiration\",\\n  \"mentioned\": [\"Trisha Paytas\"],\\n  \"support\": \"neutral\"\\n}', '{\\n  \"sentiment\": \"neutral\",\\n  \"emotion\": \"surprise\",\\n  \"mentioned\": [\"Trisha Paytas\", \"Oscar\", \"Moses\"],\\n  \"support\": \"neutral\"\\n}', '{\\n  \"sentiment\": \"neutral\",\\n  \"emotion\": \"frustration\",\\n  \"mentioned\": [\"mushiefairie\"],\\n  \"support\": \"neutral\"\\n}', '{\\n  \"sentiment\": \"positive\",\\n  \"emotion\": \"love\",\\n  \"mentioned\": [\"Jesseenoevil\", \"Trisha Paytas\"],\\n  \"support\": \"neutral\"\\n}', '{\\n  \"sentiment\": \"neutral\",\\n  \"emotion\": \"excitement\",\\n  \"mentioned\": [\"trisha paytas\"],\\n  \"support\": \"neutral\"\\n}', '{\\n  \"sentiment\": \"positive\",\\n  \"emotion\": \"admiration\",\\n  \"mentioned\": [\"atensnut\", \"Trisha Paytas\"],\\n  \"support\": \"neutral\"\\n}', '{\\n  \"sentiment\": \"positive\",\\n  \"emotion\": \"inspiration\",\\n  \"mentioned\": [\"Trisha Paytas\"],\\n  \"support\": \"neutral\"\\n}', '{\\n  \"sentiment\": \"negative\",\\n  \"emotion\": \"frustration\",\\n  \"mentioned\": [\"Morgan Wallen\", \"Trisha Paytas\"],\\n  \"support\": \"neutral\"\\n}', '{\\n  \"sentiment\": \"negative\",\\n  \"emotion\": \"disgust\",\\n  \"mentioned\": [\"Trisha Paytas\"],\\n  \"support\": \"neutral\"\\n}', '{\\n  \"sentiment\": \"neutral\",\\n  \"emotion\": \"nostalgia\",\\n  \"mentioned\": [\"Trisha Paytas\"],\\n  \"support\": \"neutral\"\\n}', '{\\n  \"sentiment\": \"negative\",\\n  \"emotion\": \"frustration\",\\n  \"mentioned\": [\"Trisha Paytas\"],\\n  \"support\": \"neutral\"\\n}', '{\\n  \"sentiment\": \"neutral\",\\n  \"emotion\": \"frustration\",\\n  \"mentioned\": [\"mushiefairie\"],\\n  \"support\": \"neutral\"\\n}', '{\\n  \"sentiment\": \"neutral\",\\n  \"emotion\": \"curiosity\",\\n  \"mentioned\": [\"SpencerSays\", \"Trisha Paytas\"],\\n  \"support\": \"neutral\"\\n}', '{\\n  \"sentiment\": \"neutral\",\\n  \"emotion\": \"none\",\\n  \"mentioned\": [\"kristin chenoweth\", \"Trisha paytas\"],\\n  \"support\": \"none\"\\n}', '{\\n  \"sentiment\": \"neutral\",\\n  \"emotion\": \"frustration\",\\n  \"mentioned\": [\"mushiefairie\"],\\n  \"support\": \"neutral\"\\n}', '{\\n  \"sentiment\": \"positive\",\\n  \"emotion\": \"excitement\",\\n  \"mentioned\": [\"Trisha Paytas\"],\\n  \"support\": \"neutral\"\\n}', '{\\n  \"sentiment\": \"neutral\",\\n  \"emotion\": \"none\",\\n  \"mentioned\": [\"brittany broski\", \"trisha paytas\", \"lana del rey\", \"ariana grande\"],\\n  \"support\": \"none\"\\n}', '{\\n  \"sentiment\": \"negative\",\\n  \"emotion\": \"anger\",\\n  \"mentioned\": [\"Rachel Zegler\", \"Trisha Paytas\"],\\n  \"support\": \"neutral\"\\n}', '{\\n  \"sentiment\": \"neutral\",\\n  \"emotion\": \"curiosity\",\\n  \"mentioned\": [\"SpencerSays\", \"Trisha Paytas\"],\\n  \"support\": \"neutral\"\\n}', '{\\n  \"sentiment\": \"neutral\",\\n  \"emotion\": \"curiosity\",\\n  \"mentioned\": [\"SpencerSays\", \"Trisha Paytas\"],\\n  \"support\": \"neutral\"\\n}', '{\\n  \"sentiment\": \"neutral\",\\n  \"emotion\": \"indifferent\",\\n  \"mentioned\": [\\n    \"Lena The Plug\",\\n    \"Amouranth\",\\n    \"OnlyLeigh\",\\n    \"Nikita Love\",\\n    \"Mel Rose\",\\n    \"Aletta Ocean\",\\n    \"Maria Ozawa\",\\n    \"Malu Trevejo\",\\n    \"Maliah Michel\",\\n    \"Caitlin Rice\",\\n    \"Victoria Matosa\",\\n    \"Mikaela Pascal\",\\n    \"Rosanna Arkle\",\\n    \"Bhad Bhabie\",\\n    \"Trisha Paytas\"\\n  ],\\n  \"support\": \"neutral\"\\n}', '{\\n  \"sentiment\": \"neutral\",\\n  \"emotion\": \"relief\",\\n  \"mentioned\": [\"mushiefairie\"],\\n  \"support\": \"neutral\"\\n}', '{\\n  \"sentiment\": \"neutral\",\\n  \"emotion\": \"frustration\",\\n  \"mentioned\": [\"mushiefairie\"],\\n  \"support\": \"neutral\"\\n}', '{\\n  \"sentiment\": \"neutral\",\\n  \"emotion\": \"curiosity\",\\n  \"mentioned\": [\"Trisha Paytas\"],\\n  \"support\": \"neutral\"\\n}', '{\\n  \"sentiment\": \"positive\",\\n  \"emotion\": \"excitement\",\\n  \"mentioned\": [\"missymojorisin\", \"trisha paytas\"],\\n  \"support\": \"neutral\"\\n}', '{\\n  \"sentiment\": \"neutral\",\\n  \"emotion\": \"indifferent\",\\n  \"mentioned\": [\"Trisha Paytas\"],\\n  \"support\": \"neutral\"\\n}', '{\\n  \"sentiment\": \"neutral\",\\n  \"emotion\": \"loneliness\",\\n  \"mentioned\": [\"trisha paytas\"],\\n  \"support\": \"neutral\"\\n}', '{\\n  \"sentiment\": \"neutral\",\\n  \"emotion\": \"curiosity\",\\n  \"mentioned\": [\"RatioAmber\", \"Trisha Paytas\", \"Rachel Amber\"],\\n  \"support\": \"neutral\"\\n}', '{\\n  \"sentiment\": \"neutral\",\\n  \"emotion\": \"indifference\",\\n  \"mentioned\": [\"Trisha Paytas\"],\\n  \"support\": \"neutral\"\\n}', '{\\n  \"sentiment\": \"neutral\",\\n  \"emotion\": \"calm\",\\n  \"mentioned\": [\"trisha paytas\"],\\n  \"support\": \"neutral\"\\n}', '{\\n  \"sentiment\": \"positive\",\\n  \"emotion\": \"excitement\",\\n  \"mentioned\": [\"trisha paytas\"],\\n  \"support\": \"neutral\"\\n}', '{\\n  \"sentiment\": \"neutral\",\\n  \"emotion\": \"calm\",\\n  \"mentioned\": [\"trisha paytas\"],\\n  \"support\": \"neutral\"\\n}', '{\\n  \"sentiment\": \"neutral\",\\n  \"emotion\": \"frustration\",\\n  \"mentioned\": [\"mushiefairie\"],\\n  \"support\": \"neutral\"\\n}', '{\\n  \"sentiment\": \"neutral\",\\n  \"emotion\": \"frustration\",\\n  \"mentioned\": [\"mushiefairie\"],\\n  \"support\": \"neutral\"\\n}', '{\\n  \"sentiment\": \"negative\",\\n  \"emotion\": \"disgust\",\\n  \"mentioned\": [\"Trisha Paytas\"],\\n  \"support\": \"neutral\"\\n}', '{\\n  \"sentiment\": \"negative\",\\n  \"emotion\": \"disdain\",\\n  \"mentioned\": [\"Trisha Paytas\"],\\n  \"support\": \"neutral\"\\n}', '{\\n  \"sentiment\": \"positive\",\\n  \"emotion\": \"admiration\",\\n  \"mentioned\": [\"trisha paytas\"],\\n  \"support\": \"neutral\"\\n}', '{\\n  \"sentiment\": \"positive\",\\n  \"emotion\": \"flattered\",\\n  \"mentioned\": [\"trisha paytas\"],\\n  \"support\": \"neutral\"\\n}', '{\\n  \"sentiment\": \"neutral\",\\n  \"emotion\": \"indifference\",\\n  \"mentioned\": [\"Trisha Paytas\"],\\n  \"support\": \"neutral\"\\n}', '{\\n  \"sentiment\": \"negative\",\\n  \"emotion\": \"disappointment\",\\n  \"mentioned\": [\"Trisha Paytas\"],\\n  \"support\": \"neutral\"\\n}', '{\\n  \"sentiment\": \"negative\",\\n  \"emotion\": \"frustration\",\\n  \"mentioned\": [\"trisha paytas\"],\\n  \"support\": \"neutral\"\\n}', '{\\n  \"sentiment\": \"negative\",\\n  \"emotion\": \"disapproval\",\\n  \"mentioned\": [\"trisha paytas\", \"jojo siwa\"],\\n  \"support\": \"neutral\"\\n}', '{\\n  \"sentiment\": \"neutral\",\\n  \"emotion\": \"nostalgia\",\\n  \"mentioned\": [\"abby lee miller\", \"trisha paytas\"],\\n  \"support\": \"neutral\"\\n}', '{\\n  \"sentiment\": \"neutral\",\\n  \"emotion\": \"frustration\",\\n  \"mentioned\": [\"mushiefairie\"],\\n  \"support\": \"neutral\"\\n}', '{\\n  \"sentiment\": \"neutral\",\\n  \"emotion\": \"surprise\",\\n  \"mentioned\": [\"trisha paytas\"],\\n  \"support\": \"neutral\"\\n}']\n"
     ]
    }
   ],
   "source": [
    "print(analysis_result)"
   ]
  },
  {
   "cell_type": "code",
   "execution_count": 25,
   "id": "c601722e-7f37-45fb-b580-9aeed74fe3a7",
   "metadata": {
    "tags": []
   },
   "outputs": [
    {
     "name": "stdout",
     "output_type": "stream",
     "text": [
      "```json\n",
      "{\n",
      "  \"Democratic count\": 2,\n",
      "  \"Republican count\": 0,\n",
      "  \"people name\": {\n",
      "    \"Trisha Paytas\": {\n",
      "      \"sentiments\": {\n",
      "        \"neutral\": 54,\n",
      "        \"positive\": 10,\n",
      "        \"negative\": 10\n",
      "      },\n",
      "      \"emotions\": {\n",
      "        \"indifference\": 7,\n",
      "        \"surprise\": 5,\n",
      "        \"amusement\": 2,\n",
      "        \"excitement\": 6,\n",
      "        \"curiosity\": 8,\n",
      "        \"desperation\": 1,\n",
      "        \"confusion\": 2,\n",
      "        \"disapproval\": 2,\n",
      "        \"informative\": 2,\n",
      "        \"anger\": 3,\n",
      "        \"frustration\": 5,\n",
      "        \"nostalgia\": 5,\n",
      "        \"affection\": 1,\n",
      "        \"none\": 3,\n",
      "        \"admiration\": 3,\n",
      "        \"disgust\": 3,\n",
      "        \"disdain\": 2,\n",
      "        \"love\": 1,\n",
      "        \"inspiration\": 1,\n",
      "        \"loneliness\": 1,\n",
      "        \"calm\": 2,\n",
      "        \"disappointment\": 1,\n",
      "        \"flattered\": 1\n",
      "      }\n",
      "    },\n",
      "    \"mushiefairie\": {\n",
      "      \"sentiments\": {\n",
      "        \"neutral\": 10\n",
      "      },\n",
      "      \"emotions\": {\n",
      "        \"frustration\": 8,\n",
      "        \"relief\": 2\n",
      "      }\n",
      "    },\n",
      "    \"Rachel Zegler\": {\n",
      "      \"sentiments\": {\n",
      "        \"neutral\": 1,\n",
      "        \"negative\": 2\n",
      "      },\n",
      "      \"emotions\": {\n",
      "        \"informative\": 1,\n",
      "        \"anger\": 2\n",
      "      }\n",
      "    },\n",
      "    \"Jack Dylan Grazer\": {\n",
      "      \"sentiments\": {\n",
      "        \"neutral\": 1\n",
      "      },\n",
      "      \"emotions\": {\n",
      "        \"anger\": 1\n",
      "      }\n",
      "    },\n",
      "    \"kate bush\": {\n",
      "      \"sentiments\": {\n",
      "        \"neutral\": 1\n",
      "      },\n",
      "      \"emotions\": {\n",
      "        \"confusion\": 1\n",
      "      }\n",
      "    },\n",
      "    \"aimep3\": {\n",
      "      \"sentiments\": {\n",
      "        \"neutral\": 1\n",
      "      },\n",
      "      \"emotions\": {\n",
      "        \"indifference\": 1\n",
      "      }\n",
      "    }\n",
      "  }\n",
      "}\n",
      "```\n"
     ]
    }
   ],
   "source": [
    "messages = [\n",
    "        {\"role\": \"system\", \"content\": f\"\"\"analyze the tweet analysis reuslt delimited by {delimiter} in the following steps:\n",
    "                                        step 1 {delimiter} count the number of tweets that support Democratic and Republican;\n",
    "                                        step 2 {delimiter} identify the common sentiments and emotoions to each mentioned people;\n",
    "                                        step 3 {delimiter} organize the result in a json document with keys <Democratic count>, <Republican count>, <people name>\n",
    "                                         Do not wrap the json codes in JSON markers and only return the json document\"\"\"},\n",
    "        {\"role\": \"user\", \"content\": f\"{delimiter}{analysis_result}{delimiter} \"}]\n",
    "analysis_summary = openai_help(messages)\n",
    "print(analysis_summary)"
   ]
  },
  {
   "cell_type": "markdown",
   "id": "5a5f98ac-b2f6-4741-82c9-8e8f88f09cf1",
   "metadata": {},
   "source": [
    "## Create a chatbot"
   ]
  },
  {
   "cell_type": "code",
   "execution_count": null,
   "id": "91173534-53b8-4d6b-b9c0-198913b7ada8",
   "metadata": {
    "tags": []
   },
   "outputs": [],
   "source": [
    "from openai import OpenAI\n",
    "\n",
    "openai_api_key  = get_secret('openai')['api_key']\n",
    "client = OpenAI(api_key=openai_api_key)\n",
    "model = 'gpt-4o'\n",
    "temperature = 0\n",
    "\n",
    "chat_history = [\n",
    "\n",
    "{\"role\": \"system\", \"content\": f\"\"\"you are a chabot answer user questions based on the tweets,\n",
    "                                {delimiter}{tweet_data}{delimiter}, \n",
    "                                if user mentioned a people name in the {delimiter}{analysis_summary}{delimiter} people field,report the corresponding sentiment and emotion,\n",
    "                            \n",
    "                            \"\"\"}\n",
    "]\n",
    "\n",
    "def chatbot(prompt):\n",
    "\n",
    "    chat_history.append({\"role\": \"user\", \"content\": prompt})\n",
    "\n",
    "    response = client.chat.completions.create(\n",
    "        model=model,  # Use the model you prefer\n",
    "        messages=chat_history\n",
    "    )\n",
    "\n",
    "    reply = response.choices[0].message.content\n",
    "\n",
    "    chat_history.append({\"role\": \"assistant\", \"content\": reply})\n",
    "    \n",
    "    return reply"
   ]
  },
  {
   "cell_type": "code",
   "execution_count": null,
   "id": "9a949601-5af9-4d0b-80d7-5297cc4e52f4",
   "metadata": {
    "tags": []
   },
   "outputs": [],
   "source": [
    "while True:\n",
    "    user_input = input(\"You: \")\n",
    "    if user_input.lower() in ['exit', 'quit']:\n",
    "        print(\"Chatbot: Goodbye!\")\n",
    "        break\n",
    "    reply = chatbot(user_input)\n",
    "    print(f\"Chatbot: {reply}\")\n"
   ]
  },
  {
   "cell_type": "markdown",
   "id": "2f497dd9-8e6e-4f40-b546-8fe225185729",
   "metadata": {},
   "source": [
    "## Reference\n",
    "- Isa Fulford and Andrew Ng. n.d.-a. *“Building Systems with the ChatGPT API.”* DeepLearning.AI. Accessed October 25, 2024. https://www.deeplearning.ai/short-courses/building-systems-with-chatgpt/.\n",
    "- ———. n.d.-b. *“ChatGPT Prompt Engineering for Developers.”* DeepLearning.AI. Accessed October 25, 2024. https://www.deeplearning.ai/short-courses/chatgpt-prompt-engineering-for-developers/.\n",
    "- OpenAI. n.d. *“OpenAI Documents.”* OpenAI. Accessed October 18, 2024. https://platform.openai.com.\n"
   ]
  },
  {
   "cell_type": "code",
   "execution_count": null,
   "id": "44b06a39-30aa-498b-aff2-049fd65b7fd3",
   "metadata": {},
   "outputs": [],
   "source": []
  },
  {
   "cell_type": "code",
   "execution_count": null,
   "id": "f9cfbe5e-fa7c-4ab5-8aeb-9280bbd62ef5",
   "metadata": {},
   "outputs": [],
   "source": []
  }
 ],
 "metadata": {
  "kernelspec": {
   "display_name": "conda_python3",
   "language": "python",
   "name": "conda_python3"
  },
  "language_info": {
   "codemirror_mode": {
    "name": "ipython",
    "version": 3
   },
   "file_extension": ".py",
   "mimetype": "text/x-python",
   "name": "python",
   "nbconvert_exporter": "python",
   "pygments_lexer": "ipython3",
   "version": "3.10.16"
  }
 },
 "nbformat": 4,
 "nbformat_minor": 5
}
